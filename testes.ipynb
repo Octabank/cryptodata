{
 "cells": [
  {
   "cell_type": "code",
   "execution_count": null,
   "metadata": {},
   "outputs": [],
   "source": [
    "import numpy as np\n",
    "import pandas as pd\n",
    "import asyncio\n",
    "import aiohttp\n",
    "import json\n",
    "import csv"
   ]
  },
  {
   "cell_type": "code",
   "execution_count": 16,
   "metadata": {},
   "outputs": [],
   "source": [
    "import requests\n",
    "import json\n",
    "from datetime import datetime\n",
    "import numpy as np\n",
    "import pandas as pd\n",
    "\n",
    "def get_markets(api = \"cryptowatch\"):\n",
    "    \"\"\"get markets available in API\"\"\"\n",
    "    if api == \"cryptowatch\":\n",
    "        try:\n",
    "            r = requests.get(\"https://api.cryptowat.ch/markets\").json()['result']\n",
    "            exchanges = {item['exchange'] for item in r}\n",
    "        except:\n",
    "            print(\"Error: disfunctional API from Cryptowatch\")\n",
    "    return exchanges\n",
    "\n",
    "def get_pairs(api = \"cryptowatch\"):\n",
    "    \"\"\"get pairs available in API\"\"\"\n",
    "    if api == \"cryptowatch\":\n",
    "        try:\n",
    "            r = requests.get(\"https://api.cryptowat.ch/markets\").json()['result']\n",
    "            pairs = {item['pair'] for item in r}\n",
    "        except:\n",
    "            print(\"Error: disfunctional API from Cryptowatch\")\n",
    "    return pairs\n",
    "\n"
   ]
  },
  {
   "cell_type": "code",
   "execution_count": 20,
   "metadata": {},
   "outputs": [],
   "source": [
    "def get_ohlc(market, pair, period = 24, api = \"cryptowatch\", before = \"\", after = \"\"):\n",
    "    \"\"\"get OHLC prices available in API\"\"\"\n",
    "    period *= 3600\n",
    "    period = str(period)\n",
    "    params = []\n",
    "    url = \"https://api.cryptowat.ch/markets/\" + market + \"/\" + pair + \"/ohlc\"\n",
    "    print(url)\n",
    "    if (not before or not after):\n",
    "        params = [('before', before), ('after', after)]\n",
    "    if api == \"cryptowatch\":\n",
    "        try:\n",
    "            r = requests.get(url).json()['result'][period]\n",
    "            #ohlc = [item['pair'] for item in r]\n",
    "            return pd.DataFrame(r, columns = ['period','open','high','low','close','volume','neg'])\n",
    "        except:\n",
    "            print(\"Error: disfunctional API from Cryptowatch\")\n",
    "            \n",
    "#columns = ['period','open','high','low','close','volume','neg']    "
   ]
  },
  {
   "cell_type": "code",
   "execution_count": 21,
   "metadata": {},
   "outputs": [
    {
     "name": "stdout",
     "output_type": "stream",
     "text": [
      "https://api.cryptowat.ch/markets/bitfinex/btcusd/ohlc\n"
     ]
    }
   ],
   "source": [
    "a = get_ohlc(\"bitfinex\", \"btcusd\")"
   ]
  },
  {
   "cell_type": "code",
   "execution_count": 23,
   "metadata": {},
   "outputs": [
    {
     "data": {
      "text/html": [
       "<div>\n",
       "<style scoped>\n",
       "    .dataframe tbody tr th:only-of-type {\n",
       "        vertical-align: middle;\n",
       "    }\n",
       "\n",
       "    .dataframe tbody tr th {\n",
       "        vertical-align: top;\n",
       "    }\n",
       "\n",
       "    .dataframe thead th {\n",
       "        text-align: right;\n",
       "    }\n",
       "</style>\n",
       "<table border=\"1\" class=\"dataframe\">\n",
       "  <thead>\n",
       "    <tr style=\"text-align: right;\">\n",
       "      <th></th>\n",
       "      <th>period</th>\n",
       "      <th>open</th>\n",
       "      <th>high</th>\n",
       "      <th>low</th>\n",
       "      <th>close</th>\n",
       "      <th>volume</th>\n",
       "      <th>neg</th>\n",
       "    </tr>\n",
       "  </thead>\n",
       "  <tbody>\n",
       "    <tr>\n",
       "      <th>495</th>\n",
       "      <td>1531440000</td>\n",
       "      <td>6377.7</td>\n",
       "      <td>6377.7</td>\n",
       "      <td>6079.9</td>\n",
       "      <td>6249.0</td>\n",
       "      <td>23411.469</td>\n",
       "      <td>145159060.0</td>\n",
       "    </tr>\n",
       "    <tr>\n",
       "      <th>496</th>\n",
       "      <td>1531526400</td>\n",
       "      <td>6248.7</td>\n",
       "      <td>6339.9</td>\n",
       "      <td>6125.0</td>\n",
       "      <td>6220.0</td>\n",
       "      <td>18539.768</td>\n",
       "      <td>115527330.0</td>\n",
       "    </tr>\n",
       "    <tr>\n",
       "      <th>497</th>\n",
       "      <td>1531612800</td>\n",
       "      <td>6219.7</td>\n",
       "      <td>6320.0</td>\n",
       "      <td>6179.2</td>\n",
       "      <td>6250.0</td>\n",
       "      <td>8081.261</td>\n",
       "      <td>50436940.0</td>\n",
       "    </tr>\n",
       "    <tr>\n",
       "      <th>498</th>\n",
       "      <td>1531699200</td>\n",
       "      <td>6250.0</td>\n",
       "      <td>6389.0</td>\n",
       "      <td>6230.3</td>\n",
       "      <td>6347.2</td>\n",
       "      <td>10118.092</td>\n",
       "      <td>64132416.0</td>\n",
       "    </tr>\n",
       "    <tr>\n",
       "      <th>499</th>\n",
       "      <td>1531785600</td>\n",
       "      <td>6347.2</td>\n",
       "      <td>6671.6</td>\n",
       "      <td>6327.1</td>\n",
       "      <td>6596.5</td>\n",
       "      <td>19173.992</td>\n",
       "      <td>124880856.0</td>\n",
       "    </tr>\n",
       "  </tbody>\n",
       "</table>\n",
       "</div>"
      ],
      "text/plain": [
       "         period    open    high     low   close     volume          neg\n",
       "495  1531440000  6377.7  6377.7  6079.9  6249.0  23411.469  145159060.0\n",
       "496  1531526400  6248.7  6339.9  6125.0  6220.0  18539.768  115527330.0\n",
       "497  1531612800  6219.7  6320.0  6179.2  6250.0   8081.261   50436940.0\n",
       "498  1531699200  6250.0  6389.0  6230.3  6347.2  10118.092   64132416.0\n",
       "499  1531785600  6347.2  6671.6  6327.1  6596.5  19173.992  124880856.0"
      ]
     },
     "execution_count": 23,
     "metadata": {},
     "output_type": "execute_result"
    }
   ],
   "source": [
    "a.tail()"
   ]
  },
  {
   "cell_type": "code",
   "execution_count": 10,
   "metadata": {},
   "outputs": [
    {
     "data": {
      "text/plain": [
       "array([0.25554614, 0.46100205, 0.85671336, 0.49220139, 0.02059016])"
      ]
     },
     "execution_count": 10,
     "metadata": {},
     "output_type": "execute_result"
    }
   ],
   "source": [
    "np.random.random(5)"
   ]
  },
  {
   "cell_type": "code",
   "execution_count": null,
   "metadata": {},
   "outputs": [],
   "source": []
  }
 ],
 "metadata": {
  "kernelspec": {
   "display_name": "Python 3",
   "language": "python",
   "name": "python3"
  },
  "language_info": {
   "codemirror_mode": {
    "name": "ipython",
    "version": 3
   },
   "file_extension": ".py",
   "mimetype": "text/x-python",
   "name": "python",
   "nbconvert_exporter": "python",
   "pygments_lexer": "ipython3",
   "version": "3.6.5"
  }
 },
 "nbformat": 4,
 "nbformat_minor": 2
}
