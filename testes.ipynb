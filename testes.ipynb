{
 "cells": [
  {
   "cell_type": "code",
   "execution_count": 262,
   "metadata": {},
   "outputs": [
    {
     "ename": "ModuleNotFoundError",
     "evalue": "No module named 'aiohttp'",
     "output_type": "error",
     "traceback": [
      "\u001b[0;31m---------------------------------------------------------------------------\u001b[0m",
      "\u001b[0;31mModuleNotFoundError\u001b[0m                       Traceback (most recent call last)",
      "\u001b[0;32m<ipython-input-262-fb734301c74f>\u001b[0m in \u001b[0;36m<module>\u001b[0;34m()\u001b[0m\n\u001b[1;32m      2\u001b[0m \u001b[0;32mimport\u001b[0m \u001b[0mpandas\u001b[0m \u001b[0;32mas\u001b[0m \u001b[0mpd\u001b[0m\u001b[0;34m\u001b[0m\u001b[0m\n\u001b[1;32m      3\u001b[0m \u001b[0;32mimport\u001b[0m \u001b[0masyncio\u001b[0m\u001b[0;34m\u001b[0m\u001b[0m\n\u001b[0;32m----> 4\u001b[0;31m \u001b[0;32mimport\u001b[0m \u001b[0maiohttp\u001b[0m\u001b[0;34m\u001b[0m\u001b[0m\n\u001b[0m\u001b[1;32m      5\u001b[0m \u001b[0;32mimport\u001b[0m \u001b[0mjson\u001b[0m\u001b[0;34m\u001b[0m\u001b[0m\n\u001b[1;32m      6\u001b[0m \u001b[0;32mimport\u001b[0m \u001b[0mcsv\u001b[0m\u001b[0;34m\u001b[0m\u001b[0m\n",
      "\u001b[0;31mModuleNotFoundError\u001b[0m: No module named 'aiohttp'"
     ]
    }
   ],
   "source": [
    "import numpy as np\n",
    "import pandas as pd\n",
    "import asyncio\n",
    "import aiohttp\n",
    "import json\n",
    "import csv"
   ]
  },
  {
   "cell_type": "code",
   "execution_count": null,
   "metadata": {},
   "outputs": [],
   "source": [
    "import requests\n",
    "import json\n",
    "import time\n",
    "from datetime import datetime\n",
    "from datetime import date\n",
    "import numpy as np\n",
    "import pandas as pd\n",
    "\n",
    "def get_markets(api = \"cryptowatch\", active = True):\n",
    "    \"\"\"get markets available in API\"\"\"\n",
    "    if api == \"cryptowatch\":\n",
    "        try:\n",
    "            r = requests.get(\"https://api.cryptowat.ch/markets\").json()['result']\n",
    "            if (active):\n",
    "                exchanges = {item['exchange'] for item in r if item['active'] is True}\n",
    "            else:\n",
    "                exchanges = {item['exchange'] for item in r}\n",
    "        except:\n",
    "            print(\"Error: disfunctional API from Cryptowatch\")\n",
    "            \n",
    "\n",
    "    return exchanges\n",
    "\n",
    "def get_pairs(api = \"cryptowatch\", active = True):\n",
    "    \"\"\"get pairs available in API\"\"\"\n",
    "    if api == \"cryptowatch\":\n",
    "        try:\n",
    "            r = requests.get(\"https://api.cryptowat.ch/markets\").json()['result']\n",
    "            if (active):\n",
    "                pairs = {item['pair'] for item in r if item['active'] is True}\n",
    "            else:\n",
    "                pairs = {item['pair'] for item in r}\n",
    "        except:\n",
    "            print(\"Error: disfunctional API from Cryptowatch\")\n",
    "    return pairs\n",
    "\n"
   ]
  },
  {
   "cell_type": "code",
   "execution_count": null,
   "metadata": {},
   "outputs": [],
   "source": [
    "print(len(get_pairs()))\n",
    "print(len(get_pairs(active=False)))\n",
    "print(len(get_markets()))\n",
    "print(len(get_markets(active=False)))"
   ]
  },
  {
   "cell_type": "code",
   "execution_count": null,
   "metadata": {},
   "outputs": [],
   "source": [
    "def get_ohlc(market, pair, period = 1440, api = \"cryptowatch\", start = \"\", end = \"\", local_timezone = True):\n",
    "    \"\"\"get OHLC prices available in API\"\"\"\n",
    "    period *= 60\n",
    "    period = str(period)\n",
    "    params = []\n",
    "    url = \"https://api.cryptowat.ch/markets/\" + market + \"/\" + pair + \"/ohlc\"\n",
    "    print(url)\n",
    "    if (end == \"\"):\n",
    "        before = \"\"\n",
    "    else:\n",
    "        before = time.mktime(time.strptime(end, \"%d %m %y %H %M\"))\n",
    "    if (start == \"\"):\n",
    "        after = start\n",
    "    else:\n",
    "        after = time.mktime(time.strptime(start, \"%d %m %y %H %M\"))\n",
    "    if (not before or not after):\n",
    "        prms = [('before', before), ('after', after)]\n",
    "    else:\n",
    "        prms = {'before': int(before) , 'after': int(after) }\n",
    "\n",
    "#    print('params',prms)\n",
    "    \n",
    "    if api == \"cryptowatch\":\n",
    "        try:\n",
    "            r = requests.get(url, params=prms).json()['result'][period]\n",
    "            #ohlc = [item['pair'] for item in r]\n",
    "            if (local_timezone):            \n",
    "                a = pd.DataFrame(r, columns = ['date(local)','open','high','low','close','volume','neg'])\n",
    "                a[a.columns[0]] = pd.to_datetime(a[a.columns[0]] - time.timezone, unit = 's')\n",
    "                return a\n",
    "            else:\n",
    "                a = pd.DataFrame(r, columns = ['date(utc)','open','high','low','close','volume','neg'])\n",
    "                a[a.columns[0]] = pd.to_datetime(a[a.columns[0]], unit = 's')\n",
    "                return a               \n",
    "                \n",
    "\n",
    "        except:\n",
    "            print(\"Error: disfunctional API from Cryptowatch\")\n",
    "            \n",
    "#columns = ['period','open','high','low','close','volume','neg']    "
   ]
  },
  {
   "cell_type": "code",
   "execution_count": null,
   "metadata": {},
   "outputs": [],
   "source": [
    "#a = get_ohlc(\"bitfinex\", \"btcusd\", period = 1, start = time.time()-24*60*60, end = time.time())\n",
    "\n",
    "s1 = \"15 07 18 11 40\"\n",
    "e1 = \"15 07 18 11 50\"\n",
    "print(time.timezone)\n",
    "a = get_ohlc(\"bitfinex\", \"btcusd\", period = 5, start = s1, end = e1)\n",
    "b = get_ohlc(\"bitfinex\", \"btcusd\", period = 5)"
   ]
  },
  {
   "cell_type": "code",
   "execution_count": null,
   "metadata": {},
   "outputs": [],
   "source": [
    "def get_daily_price(asset = \"btc\", api = \"coinmetrics\", data_type = \"price(usd)\", start = 0, end = time.time()):\n",
    "    if (api == \"coinmetrics\"):\n",
    "        try:\n",
    "            url =  \"https://coinmetrics.io/api/v1/get_asset_data_for_time_range/\"+asset+\"/\"+data_type\n",
    "            url = url + \"/\"+str(int(start)) +\"/\"+str(int(end))\n",
    "            r = requests.get(url).json()['result']\n",
    "            #print(type(r))\n",
    "            #print(r)\n",
    "            a = pd.DataFrame(r, columns = ['date(utc)',str(asset)+\":\"+str(data_type)])\n",
    "            print(url)\n",
    "            a[a.columns[0]] = pd.to_datetime(a[a.columns[0]], unit = 's')\n",
    "\n",
    "            return a\n",
    "        except:\n",
    "            print(\"Error: disfunctional API from Coinmetrics\")            \n",
    "            \n",
    "    else:\n",
    "        return 0\n",
    "\n"
   ]
  },
  {
   "cell_type": "code",
   "execution_count": 263,
   "metadata": {
    "scrolled": true
   },
   "outputs": [
    {
     "name": "stdout",
     "output_type": "stream",
     "text": [
      "https://coinmetrics.io/api/v1/get_asset_data_for_time_range/btc/price(usd)/0/1531865482\n",
      "1531865890.750768\n"
     ]
    },
    {
     "data": {
      "text/html": [
       "<div>\n",
       "<style scoped>\n",
       "    .dataframe tbody tr th:only-of-type {\n",
       "        vertical-align: middle;\n",
       "    }\n",
       "\n",
       "    .dataframe tbody tr th {\n",
       "        vertical-align: top;\n",
       "    }\n",
       "\n",
       "    .dataframe thead th {\n",
       "        text-align: right;\n",
       "    }\n",
       "</style>\n",
       "<table border=\"1\" class=\"dataframe\">\n",
       "  <thead>\n",
       "    <tr style=\"text-align: right;\">\n",
       "      <th></th>\n",
       "      <th>date(utc)</th>\n",
       "      <th>btc:price(usd)</th>\n",
       "    </tr>\n",
       "  </thead>\n",
       "  <tbody>\n",
       "    <tr>\n",
       "      <th>1901</th>\n",
       "      <td>2018-07-12</td>\n",
       "      <td>6396.78</td>\n",
       "    </tr>\n",
       "    <tr>\n",
       "      <th>1902</th>\n",
       "      <td>2018-07-13</td>\n",
       "      <td>6235.03</td>\n",
       "    </tr>\n",
       "    <tr>\n",
       "      <th>1903</th>\n",
       "      <td>2018-07-14</td>\n",
       "      <td>6247.50</td>\n",
       "    </tr>\n",
       "    <tr>\n",
       "      <th>1904</th>\n",
       "      <td>2018-07-15</td>\n",
       "      <td>6272.70</td>\n",
       "    </tr>\n",
       "    <tr>\n",
       "      <th>1905</th>\n",
       "      <td>2018-07-16</td>\n",
       "      <td>6357.01</td>\n",
       "    </tr>\n",
       "  </tbody>\n",
       "</table>\n",
       "</div>"
      ],
      "text/plain": [
       "      date(utc)  btc:price(usd)\n",
       "1901 2018-07-12         6396.78\n",
       "1902 2018-07-13         6235.03\n",
       "1903 2018-07-14         6247.50\n",
       "1904 2018-07-15         6272.70\n",
       "1905 2018-07-16         6357.01"
      ]
     },
     "execution_count": 263,
     "metadata": {},
     "output_type": "execute_result"
    }
   ],
   "source": [
    "a = get_daily_price()\n",
    "print(time.time())\n",
    "a.tail()\n"
   ]
  },
  {
   "cell_type": "markdown",
   "metadata": {},
   "source": [
    "# Terça-Feira\n",
    "\n",
    "- finalizar get_ohlc() (from datetime to timestamp)\n",
    "\n",
    "- atualizar get_pairs() colocando um parâmetro active = True para retornar só pares ativos\n",
    "\n",
    "```Python \n",
    "pairs = {item['pair'] for item in r if item['active'] is True} ```\n",
    "\n",
    "- O mesmo para mercados\n",
    "\n"
   ]
  },
  {
   "cell_type": "code",
   "execution_count": null,
   "metadata": {
    "scrolled": true
   },
   "outputs": [],
   "source": []
  },
  {
   "cell_type": "code",
   "execution_count": null,
   "metadata": {},
   "outputs": [],
   "source": []
  },
  {
   "cell_type": "code",
   "execution_count": null,
   "metadata": {},
   "outputs": [],
   "source": []
  },
  {
   "cell_type": "code",
   "execution_count": null,
   "metadata": {},
   "outputs": [],
   "source": []
  }
 ],
 "metadata": {
  "kernelspec": {
   "display_name": "Python 2",
   "language": "python",
   "name": "python2"
  },
  "language_info": {
   "codemirror_mode": {
    "name": "ipython",
    "version": 3
   },
   "file_extension": ".py",
   "mimetype": "text/x-python",
   "name": "python",
   "nbconvert_exporter": "python",
   "pygments_lexer": "ipython3",
   "version": "3.6.5"
  }
 },
 "nbformat": 4,
 "nbformat_minor": 2
}
