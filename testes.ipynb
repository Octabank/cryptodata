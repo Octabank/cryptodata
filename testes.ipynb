{
 "cells": [
  {
   "cell_type": "code",
   "execution_count": 4,
   "metadata": {},
   "outputs": [],
   "source": [
    "import numpy as np\n",
    "import pandas as pd\n",
    "import asyncio\n",
    "#import aiohttp\n",
    "import json\n",
    "import csv"
   ]
  },
  {
   "cell_type": "code",
   "execution_count": 5,
   "metadata": {},
   "outputs": [],
   "source": [
    "import requests\n",
    "import json\n",
    "import time\n",
    "from datetime import datetime\n",
    "from datetime import date\n",
    "import numpy as np\n",
    "import pandas as pd\n",
    "\n",
    "def get_markets(api = \"cryptowatch\", active = True):\n",
    "    \"\"\"get markets available in API\"\"\"\n",
    "    if api == \"cryptowatch\":\n",
    "        try:\n",
    "            r = requests.get(\"https://api.cryptowat.ch/markets\").json()['result']\n",
    "            if (active):\n",
    "                exchanges = {item['exchange'] for item in r if item['active'] is True}\n",
    "            else:\n",
    "                exchanges = {item['exchange'] for item in r}\n",
    "        except:\n",
    "            print(\"Error: disfunctional API from Cryptowatch\")\n",
    "            \n",
    "\n",
    "    return exchanges\n",
    "\n",
    "def get_pairs(api = \"cryptowatch\", active = True):\n",
    "    \"\"\"get pairs available in API\"\"\"\n",
    "    if api == \"cryptowatch\":\n",
    "        try:\n",
    "            r = requests.get(\"https://api.cryptowat.ch/markets\").json()['result']\n",
    "            if (active):\n",
    "                pairs = {item['pair'] for item in r if item['active'] is True}\n",
    "            else:\n",
    "                pairs = {item['pair'] for item in r}\n",
    "        except:\n",
    "            print(\"Error: disfunctional API from Cryptowatch\")\n",
    "    return pairs\n",
    "\n"
   ]
  },
  {
   "cell_type": "code",
   "execution_count": 203,
   "metadata": {},
   "outputs": [],
   "source": [
    "p = get_pairs()\n",
    "\n",
    "def list_pairs(pairs=get_pairs(), p1='btc'):\n",
    "    pairs = list(pairs)\n",
    "    L = []\n",
    "    for pair in pairs:\n",
    "        if p1 == pair[:len(p1)]:\n",
    "            L.append(pair)\n",
    "    return L\n",
    "#get_markets()"
   ]
  },
  {
   "cell_type": "code",
   "execution_count": 205,
   "metadata": {},
   "outputs": [
    {
     "name": "stdout",
     "output_type": "stream",
     "text": [
      "['btceur', 'btckrw', 'btcpeth', 'btcjpy-weekly-futures', 'btcgbp', 'btczar', 'btctusd', 'btcidr', 'btcusd-weekly-futures', 'btcfxjpy', 'btcngn', 'btcjpy-quarterly-futures', 'btccad', 'btcusd-biweekly-futures', 'btcmyr', 'btchkd', 'btcsgd', 'btcjpy', 'btcusdt', 'btcpln', 'btcusd-biquarterly-futures', 'btcdxmr', 'btcaud', 'btcusd-perpetual-futures', 'btcinr', 'btcdbtc', 'btcpusdt', 'btcusd-monthly-futures', 'btcdai', 'btcusd', 'btcjpy-biweekly-futures', 'btcphp', 'btcbtc-weekly-futures', 'btcrur', 'btcpbtc', 'btccny', 'btcusd-quarterly-futures']\n"
     ]
    }
   ],
   "source": [
    "a = list_pairs()\n",
    "print(a)"
   ]
  },
  {
   "cell_type": "code",
   "execution_count": 167,
   "metadata": {},
   "outputs": [],
   "source": [
    "def get_ohlc(market, pair, period = 1440, api = \"cryptowatch\", start = \"\", end = \"\", local_timezone = True):\n",
    "    \"\"\"get OHLC prices available in API\"\"\"\n",
    "    period *= 60\n",
    "    period = str(period)\n",
    "    params = []\n",
    "    url = \"https://api.cryptowat.ch/markets/\" + market + \"/\" + pair + \"/ohlc\"\n",
    "#    print(url)\n",
    "    if (end == \"\"):\n",
    "        before = \"\"\n",
    "    else:\n",
    "        before = time.mktime(time.strptime(end, \"%d %m %y %H %M\"))\n",
    "    if (start == \"\"):\n",
    "        after = start\n",
    "    else:\n",
    "        after = time.mktime(time.strptime(start, \"%d %m %y %H %M\"))\n",
    "    if (not before or not after):\n",
    "        prms = [('before', before), ('after', after)]\n",
    "    else:\n",
    "        prms = {'before': int(before) , 'after': int(after) }\n",
    "\n",
    "    \n",
    "    if api == \"cryptowatch\":\n",
    "        try:\n",
    "            r = requests.get(url, params=prms).json()['result'][period]\n",
    "            if (local_timezone):            \n",
    "                a = pd.DataFrame(r, columns = ['date(local)','open','high','low','close','volume','neg'])\n",
    "                a[a.columns[0]] = pd.to_datetime(a[a.columns[0]] - time.timezone, unit = 's')\n",
    "                a = a.set_index('date(local)')\n",
    " \n",
    "                return a\n",
    "            else:\n",
    "                a = pd.DataFrame(r, columns = ['date(utc)','open','high','low','close','volume','neg'])\n",
    "                a[a.columns[0]] = pd.to_datetime(a[a.columns[0]], unit = 's')\n",
    "                a = a.set_index('date(utc)')\n",
    "\n",
    "                return a               \n",
    "                \n",
    "\n",
    "        except:\n",
    "            print(\"Error: disfunctional API from Cryptowatch\")\n",
    "            \n",
    "#columns = ['period','open','high','low','close','volume','neg']    "
   ]
  },
  {
   "cell_type": "code",
   "execution_count": 154,
   "metadata": {},
   "outputs": [
    {
     "name": "stdout",
     "output_type": "stream",
     "text": [
      "https://api.cryptowat.ch/markets/bitfinex/btcusd/ohlc\n"
     ]
    },
    {
     "data": {
      "text/plain": [
       "open      6.219700e+03\n",
       "high      6.277600e+03\n",
       "low       6.196000e+03\n",
       "close     6.208400e+03\n",
       "volume    1.454638e+03\n",
       "neg       9.076131e+06\n",
       "Name: 2018-07-14 01:00:00, dtype: float64"
      ]
     },
     "execution_count": 154,
     "metadata": {},
     "output_type": "execute_result"
    }
   ],
   "source": [
    "#a = get_ohlc(\"bitfinex\", \"btcusd\", period = 1, start = time.time()-24*60*60, end = time.time())\n",
    "\n",
    "s1 = \"14 07 18 00 00\"\n",
    "e1 = \"15 07 18 00 00\"\n",
    "#print(time.timezone)\n",
    "a = get_ohlc(\"bitfinex\", \"btcusd\", period = 240, start = s1, end = e1)\n",
    "\n",
    "a.loc['2018-07-14 01:00:00']\n",
    "\n"
   ]
  },
  {
   "cell_type": "code",
   "execution_count": 146,
   "metadata": {},
   "outputs": [
    {
     "name": "stdout",
     "output_type": "stream",
     "text": [
      "https://api.cryptowat.ch/markets/bitfinex/btcusd/ohlc\n",
      "2018-07-13 21:00:00\n",
      "2018-07-13 21:00:00\n"
     ]
    },
    {
     "data": {
      "text/html": [
       "<div>\n",
       "<style scoped>\n",
       "    .dataframe tbody tr th:only-of-type {\n",
       "        vertical-align: middle;\n",
       "    }\n",
       "\n",
       "    .dataframe tbody tr th {\n",
       "        vertical-align: top;\n",
       "    }\n",
       "\n",
       "    .dataframe thead th {\n",
       "        text-align: right;\n",
       "    }\n",
       "</style>\n",
       "<table border=\"1\" class=\"dataframe\">\n",
       "  <thead>\n",
       "    <tr style=\"text-align: right;\">\n",
       "      <th></th>\n",
       "      <th>open</th>\n",
       "      <th>high</th>\n",
       "      <th>low</th>\n",
       "      <th>close</th>\n",
       "      <th>volume</th>\n",
       "      <th>neg</th>\n",
       "    </tr>\n",
       "    <tr>\n",
       "      <th>date(local)</th>\n",
       "      <th></th>\n",
       "      <th></th>\n",
       "      <th></th>\n",
       "      <th></th>\n",
       "      <th></th>\n",
       "      <th></th>\n",
       "    </tr>\n",
       "  </thead>\n",
       "  <tbody>\n",
       "    <tr>\n",
       "      <th>2018-07-14 09:00:00</th>\n",
       "      <td>6221.3115</td>\n",
       "      <td>6242.4</td>\n",
       "      <td>6179.2</td>\n",
       "      <td>6230.9</td>\n",
       "      <td>1382.91420</td>\n",
       "      <td>8586973</td>\n",
       "    </tr>\n",
       "    <tr>\n",
       "      <th>2018-07-14 13:00:00</th>\n",
       "      <td>6231.0000</td>\n",
       "      <td>6251.2</td>\n",
       "      <td>6221.1</td>\n",
       "      <td>6242.7</td>\n",
       "      <td>953.43585</td>\n",
       "      <td>5947307</td>\n",
       "    </tr>\n",
       "  </tbody>\n",
       "</table>\n",
       "</div>"
      ],
      "text/plain": [
       "                          open    high     low   close      volume      neg\n",
       "date(local)                                                                \n",
       "2018-07-14 09:00:00  6221.3115  6242.4  6179.2  6230.9  1382.91420  8586973\n",
       "2018-07-14 13:00:00  6231.0000  6251.2  6221.1  6242.7   953.43585  5947307"
      ]
     },
     "execution_count": 146,
     "metadata": {},
     "output_type": "execute_result"
    }
   ],
   "source": [
    "a = get_ohlc(\"bitfinex\", \"btcusd\", period = 240, start = s1, end = e1)\n",
    "\n",
    "a = a.set_index('date(local)')\n",
    "print(a.index[0])\n",
    "print(str(a.index[0]))\n",
    "a.loc['2018-07-13 21:00:00']\n",
    "a[3:5]"
   ]
  },
  {
   "cell_type": "code",
   "execution_count": 156,
   "metadata": {},
   "outputs": [],
   "source": [
    "def get_daily_price(asset=\"btc\", api=\"coinmetrics\", data_type=\"price(usd)\", start=0, end=time.time()):\n",
    "    if (api == \"coinmetrics\"):\n",
    "        try:\n",
    "            url =  \"https://coinmetrics.io/api/v1/get_asset_data_for_time_range/\"+asset+\"/\"+data_type\n",
    "            url = url + \"/\"+str(int(start)) +\"/\"+str(int(end))\n",
    "            r = requests.get(url).json()['result']\n",
    "            #print(type(r))\n",
    "            #print(r)\n",
    "            a = pd.DataFrame(r, columns = ['date(utc)',str(asset)+\":\"+str(data_type)])\n",
    "            print(url)\n",
    "            a[a.columns[0]] = pd.to_datetime(a[a.columns[0]], unit = 's')\n",
    "\n",
    "            return a\n",
    "        except:\n",
    "            print(\"Error: disfunctional API from Coinmetrics\")            \n",
    "            \n",
    "    else:\n",
    "        return 0\n",
    "\n"
   ]
  },
  {
   "cell_type": "code",
   "execution_count": 158,
   "metadata": {
    "scrolled": true
   },
   "outputs": [
    {
     "name": "stdout",
     "output_type": "stream",
     "text": [
      "https://coinmetrics.io/api/v1/get_asset_data_for_time_range/btc/price(usd)/0/1531949048\n",
      "1531949052.3189657\n"
     ]
    },
    {
     "data": {
      "text/html": [
       "<div>\n",
       "<style scoped>\n",
       "    .dataframe tbody tr th:only-of-type {\n",
       "        vertical-align: middle;\n",
       "    }\n",
       "\n",
       "    .dataframe tbody tr th {\n",
       "        vertical-align: top;\n",
       "    }\n",
       "\n",
       "    .dataframe thead th {\n",
       "        text-align: right;\n",
       "    }\n",
       "</style>\n",
       "<table border=\"1\" class=\"dataframe\">\n",
       "  <thead>\n",
       "    <tr style=\"text-align: right;\">\n",
       "      <th></th>\n",
       "      <th>date(utc)</th>\n",
       "      <th>btc:price(usd)</th>\n",
       "    </tr>\n",
       "  </thead>\n",
       "  <tbody>\n",
       "    <tr>\n",
       "      <th>1902</th>\n",
       "      <td>2018-07-13</td>\n",
       "      <td>6235.03</td>\n",
       "    </tr>\n",
       "    <tr>\n",
       "      <th>1903</th>\n",
       "      <td>2018-07-14</td>\n",
       "      <td>6247.50</td>\n",
       "    </tr>\n",
       "    <tr>\n",
       "      <th>1904</th>\n",
       "      <td>2018-07-15</td>\n",
       "      <td>6272.70</td>\n",
       "    </tr>\n",
       "    <tr>\n",
       "      <th>1905</th>\n",
       "      <td>2018-07-16</td>\n",
       "      <td>6357.01</td>\n",
       "    </tr>\n",
       "    <tr>\n",
       "      <th>1906</th>\n",
       "      <td>2018-07-17</td>\n",
       "      <td>6739.65</td>\n",
       "    </tr>\n",
       "  </tbody>\n",
       "</table>\n",
       "</div>"
      ],
      "text/plain": [
       "      date(utc)  btc:price(usd)\n",
       "1902 2018-07-13         6235.03\n",
       "1903 2018-07-14         6247.50\n",
       "1904 2018-07-15         6272.70\n",
       "1905 2018-07-16         6357.01\n",
       "1906 2018-07-17         6739.65"
      ]
     },
     "execution_count": 158,
     "metadata": {},
     "output_type": "execute_result"
    }
   ],
   "source": [
    "a = get_daily_price()\n",
    "print(time.time())\n",
    "a.tail()\n"
   ]
  },
  {
   "cell_type": "markdown",
   "metadata": {},
   "source": [
    "# Terça-Feira\n",
    "\n",
    "- finalizar get_ohlc() (from datetime to timestamp)\n",
    "\n",
    "- atualizar get_pairs() colocando um parâmetro active = True para retornar só pares ativos\n",
    "\n",
    "```Python \n",
    "pairs = {item['pair'] for item in r if item['active'] is True} ```\n",
    "\n",
    "- O mesmo para mercados\n",
    "\n"
   ]
  },
  {
   "cell_type": "code",
   "execution_count": null,
   "metadata": {
    "scrolled": true
   },
   "outputs": [],
   "source": []
  },
  {
   "cell_type": "code",
   "execution_count": null,
   "metadata": {},
   "outputs": [],
   "source": []
  },
  {
   "cell_type": "code",
   "execution_count": null,
   "metadata": {},
   "outputs": [],
   "source": []
  },
  {
   "cell_type": "code",
   "execution_count": null,
   "metadata": {},
   "outputs": [],
   "source": []
  }
 ],
 "metadata": {
  "kernelspec": {
   "display_name": "Python 2",
   "language": "python",
   "name": "python2"
  },
  "language_info": {
   "codemirror_mode": {
    "name": "ipython",
    "version": 3
   },
   "file_extension": ".py",
   "mimetype": "text/x-python",
   "name": "python",
   "nbconvert_exporter": "python",
   "pygments_lexer": "ipython3",
   "version": "3.6.5"
  }
 },
 "nbformat": 4,
 "nbformat_minor": 2
}
