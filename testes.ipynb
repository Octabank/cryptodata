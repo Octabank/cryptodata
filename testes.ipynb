{
 "cells": [
  {
   "cell_type": "code",
   "execution_count": 8,
   "metadata": {},
   "outputs": [],
   "source": [
    "import numpy as np\n",
    "import pandas as pd\n",
    "import asyncio\n",
    "import aiohttp\n",
    "import json\n",
    "import csv"
   ]
  },
  {
   "cell_type": "code",
   "execution_count": 9,
   "metadata": {},
   "outputs": [],
   "source": [
    "import requests\n",
    "import json\n",
    "from datetime import datetime\n",
    "from datetime import date\n",
    "import numpy as np\n",
    "import pandas as pd\n",
    "\n",
    "def get_markets(api = \"cryptowatch\"):\n",
    "    \"\"\"get markets available in API\"\"\"\n",
    "    if api == \"cryptowatch\":\n",
    "        try:\n",
    "            r = requests.get(\"https://api.cryptowat.ch/markets\").json()['result']\n",
    "            exchanges = {item['exchange'] for item in r}\n",
    "        except:\n",
    "            print(\"Error: disfunctional API from Cryptowatch\")\n",
    "    return exchanges\n",
    "\n",
    "def get_pairs(api = \"cryptowatch\"):\n",
    "    \"\"\"get pairs available in API\"\"\"\n",
    "    if api == \"cryptowatch\":\n",
    "        try:\n",
    "            r = requests.get(\"https://api.cryptowat.ch/markets\").json()['result']\n",
    "            pairs = {item['pair'] for item in r}\n",
    "        except:\n",
    "            print(\"Error: disfunctional API from Cryptowatch\")\n",
    "    return pairs\n",
    "\n"
   ]
  },
  {
   "cell_type": "code",
   "execution_count": 39,
   "metadata": {},
   "outputs": [],
   "source": [
    "def get_ohlc(market, pair, period = 24, api = \"cryptowatch\", before = \"\", after = \"\"):\n",
    "    \"\"\"get OHLC prices available in API\"\"\"\n",
    "    period *= 3600\n",
    "    period = str(period)\n",
    "    params = []\n",
    "    url = \"https://api.cryptowat.ch/markets/\" + market + \"/\" + pair + \"/ohlc\"\n",
    "    print(url)\n",
    "    if (not before or not after):\n",
    "        params = [('before', before), ('after', after)]\n",
    "    if api == \"cryptowatch\":\n",
    "        try:\n",
    "            r = requests.get(url).json()['result'][period]\n",
    "            #ohlc = [item['pair'] for item in r]\n",
    "            return pd.DataFrame(r, columns = ['date','open','high','low','close','volume','neg'])\n",
    "        except:\n",
    "            print(\"Error: disfunctional API from Cryptowatch\")\n",
    "            \n",
    "#columns = ['period','open','high','low','close','volume','neg']    "
   ]
  },
  {
   "cell_type": "code",
   "execution_count": 113,
   "metadata": {},
   "outputs": [
    {
     "name": "stdout",
     "output_type": "stream",
     "text": [
      "https://api.cryptowat.ch/markets/bitfinex/btcusd/ohlc\n"
     ]
    },
    {
     "data": {
      "text/html": [
       "<div>\n",
       "<style scoped>\n",
       "    .dataframe tbody tr th:only-of-type {\n",
       "        vertical-align: middle;\n",
       "    }\n",
       "\n",
       "    .dataframe tbody tr th {\n",
       "        vertical-align: top;\n",
       "    }\n",
       "\n",
       "    .dataframe thead th {\n",
       "        text-align: right;\n",
       "    }\n",
       "</style>\n",
       "<table border=\"1\" class=\"dataframe\">\n",
       "  <thead>\n",
       "    <tr style=\"text-align: right;\">\n",
       "      <th></th>\n",
       "      <th>date</th>\n",
       "      <th>open</th>\n",
       "      <th>high</th>\n",
       "      <th>low</th>\n",
       "      <th>close</th>\n",
       "      <th>volume</th>\n",
       "      <th>neg</th>\n",
       "    </tr>\n",
       "  </thead>\n",
       "  <tbody>\n",
       "    <tr>\n",
       "      <th>0</th>\n",
       "      <td>2017-03-07</td>\n",
       "      <td>1279.3</td>\n",
       "      <td>1282.0</td>\n",
       "      <td>1185.0</td>\n",
       "      <td>1232.4</td>\n",
       "      <td>40153.83</td>\n",
       "      <td>0.0</td>\n",
       "    </tr>\n",
       "    <tr>\n",
       "      <th>1</th>\n",
       "      <td>2017-03-08</td>\n",
       "      <td>1232.3</td>\n",
       "      <td>1243.6</td>\n",
       "      <td>1142.1</td>\n",
       "      <td>1150.0</td>\n",
       "      <td>46841.29</td>\n",
       "      <td>0.0</td>\n",
       "    </tr>\n",
       "    <tr>\n",
       "      <th>2</th>\n",
       "      <td>2017-03-09</td>\n",
       "      <td>1149.4</td>\n",
       "      <td>1207.6</td>\n",
       "      <td>1136.0</td>\n",
       "      <td>1190.4</td>\n",
       "      <td>24234.53</td>\n",
       "      <td>0.0</td>\n",
       "    </tr>\n",
       "    <tr>\n",
       "      <th>3</th>\n",
       "      <td>2017-03-10</td>\n",
       "      <td>1190.3</td>\n",
       "      <td>1339.9</td>\n",
       "      <td>958.5</td>\n",
       "      <td>1115.4</td>\n",
       "      <td>99926.30</td>\n",
       "      <td>0.0</td>\n",
       "    </tr>\n",
       "    <tr>\n",
       "      <th>4</th>\n",
       "      <td>2017-03-11</td>\n",
       "      <td>1113.0</td>\n",
       "      <td>1196.6</td>\n",
       "      <td>1101.2</td>\n",
       "      <td>1172.4</td>\n",
       "      <td>31257.13</td>\n",
       "      <td>0.0</td>\n",
       "    </tr>\n",
       "  </tbody>\n",
       "</table>\n",
       "</div>"
      ],
      "text/plain": [
       "         date    open    high     low   close    volume  neg\n",
       "0  2017-03-07  1279.3  1282.0  1185.0  1232.4  40153.83  0.0\n",
       "1  2017-03-08  1232.3  1243.6  1142.1  1150.0  46841.29  0.0\n",
       "2  2017-03-09  1149.4  1207.6  1136.0  1190.4  24234.53  0.0\n",
       "3  2017-03-10  1190.3  1339.9   958.5  1115.4  99926.30  0.0\n",
       "4  2017-03-11  1113.0  1196.6  1101.2  1172.4  31257.13  0.0"
      ]
     },
     "execution_count": 113,
     "metadata": {},
     "output_type": "execute_result"
    }
   ],
   "source": [
    "a = get_ohlc(\"bitfinex\", \"btcusd\")\n",
    "b = np.reshape(np.array(a['date']), (-1,1))\n",
    "c =  list( map(date.fromtimestamp, b) )\n",
    "d = list( map(str, c))\n",
    "a['date'] = d\n",
    "a.head()\n"
   ]
  },
  {
   "cell_type": "code",
   "execution_count": 114,
   "metadata": {},
   "outputs": [
    {
     "data": {
      "text/html": [
       "<div>\n",
       "<style scoped>\n",
       "    .dataframe tbody tr th:only-of-type {\n",
       "        vertical-align: middle;\n",
       "    }\n",
       "\n",
       "    .dataframe tbody tr th {\n",
       "        vertical-align: top;\n",
       "    }\n",
       "\n",
       "    .dataframe thead th {\n",
       "        text-align: right;\n",
       "    }\n",
       "</style>\n",
       "<table border=\"1\" class=\"dataframe\">\n",
       "  <thead>\n",
       "    <tr style=\"text-align: right;\">\n",
       "      <th></th>\n",
       "      <th>date</th>\n",
       "      <th>open</th>\n",
       "      <th>high</th>\n",
       "      <th>low</th>\n",
       "      <th>close</th>\n",
       "      <th>volume</th>\n",
       "      <th>neg</th>\n",
       "    </tr>\n",
       "  </thead>\n",
       "  <tbody>\n",
       "    <tr>\n",
       "      <th>495</th>\n",
       "      <td>2018-07-12</td>\n",
       "      <td>6377.7</td>\n",
       "      <td>6377.7</td>\n",
       "      <td>6079.9</td>\n",
       "      <td>6249.0</td>\n",
       "      <td>23411.469</td>\n",
       "      <td>145159060.0</td>\n",
       "    </tr>\n",
       "    <tr>\n",
       "      <th>496</th>\n",
       "      <td>2018-07-13</td>\n",
       "      <td>6248.7</td>\n",
       "      <td>6339.9</td>\n",
       "      <td>6125.0</td>\n",
       "      <td>6220.0</td>\n",
       "      <td>18539.768</td>\n",
       "      <td>115527330.0</td>\n",
       "    </tr>\n",
       "    <tr>\n",
       "      <th>497</th>\n",
       "      <td>2018-07-14</td>\n",
       "      <td>6219.7</td>\n",
       "      <td>6320.0</td>\n",
       "      <td>6179.2</td>\n",
       "      <td>6250.0</td>\n",
       "      <td>8081.261</td>\n",
       "      <td>50436940.0</td>\n",
       "    </tr>\n",
       "    <tr>\n",
       "      <th>498</th>\n",
       "      <td>2018-07-15</td>\n",
       "      <td>6250.0</td>\n",
       "      <td>6389.0</td>\n",
       "      <td>6230.3</td>\n",
       "      <td>6347.2</td>\n",
       "      <td>10118.092</td>\n",
       "      <td>64132416.0</td>\n",
       "    </tr>\n",
       "    <tr>\n",
       "      <th>499</th>\n",
       "      <td>2018-07-16</td>\n",
       "      <td>6347.2</td>\n",
       "      <td>6711.0</td>\n",
       "      <td>6327.1</td>\n",
       "      <td>6664.2</td>\n",
       "      <td>25227.516</td>\n",
       "      <td>165201700.0</td>\n",
       "    </tr>\n",
       "  </tbody>\n",
       "</table>\n",
       "</div>"
      ],
      "text/plain": [
       "           date    open    high     low   close     volume          neg\n",
       "495  2018-07-12  6377.7  6377.7  6079.9  6249.0  23411.469  145159060.0\n",
       "496  2018-07-13  6248.7  6339.9  6125.0  6220.0  18539.768  115527330.0\n",
       "497  2018-07-14  6219.7  6320.0  6179.2  6250.0   8081.261   50436940.0\n",
       "498  2018-07-15  6250.0  6389.0  6230.3  6347.2  10118.092   64132416.0\n",
       "499  2018-07-16  6347.2  6711.0  6327.1  6664.2  25227.516  165201700.0"
      ]
     },
     "execution_count": 114,
     "metadata": {},
     "output_type": "execute_result"
    }
   ],
   "source": [
    "a.tail()"
   ]
  },
  {
   "cell_type": "code",
   "execution_count": 7,
   "metadata": {},
   "outputs": [
    {
     "data": {
      "text/plain": [
       "array([0.33282222, 0.58016956, 0.96471922, 0.94195673, 0.23937737])"
      ]
     },
     "execution_count": 7,
     "metadata": {},
     "output_type": "execute_result"
    }
   ],
   "source": [
    "np.random.random(5)"
   ]
  },
  {
   "cell_type": "code",
   "execution_count": 16,
   "metadata": {},
   "outputs": [
    {
     "name": "stdout",
     "output_type": "stream",
     "text": [
      "{'bittrex', 'kraken', 'quoine', 'bitsquare', 'bitstamp', 'gdax', 'hitbtc', 'bitvc', 'quadriga', 'bitbay', 'mexbt', 'bitfinex', 'cryptsy', 'bithumb', 'okex', 'poloniex', 'cryptofacilities', 'okcoin', 'btc-china', 'bitflyer', 'luno', 'bitmex', 'wex', 'gemini', 'cexio', '796', 'coinone', 'vault-of-satoshi', 'qryptos', 'huobi', 'binance', 'mtgox'}\n"
     ]
    }
   ],
   "source": [
    "e = get_markets()\n",
    "print(e)"
   ]
  },
  {
   "cell_type": "code",
   "execution_count": 22,
   "metadata": {},
   "outputs": [
    {
     "name": "stdout",
     "output_type": "stream",
     "text": [
      "2446-09-13\n"
     ]
    }
   ],
   "source": [
    "from datetime import date\n",
    "print(date.fromtimestamp(15043271698))"
   ]
  },
  {
   "cell_type": "code",
   "execution_count": null,
   "metadata": {},
   "outputs": [],
   "source": []
  }
 ],
 "metadata": {
  "kernelspec": {
   "display_name": "Python 3",
   "language": "python",
   "name": "python3"
  },
  "language_info": {
   "codemirror_mode": {
    "name": "ipython",
    "version": 3
   },
   "file_extension": ".py",
   "mimetype": "text/x-python",
   "name": "python",
   "nbconvert_exporter": "python",
   "pygments_lexer": "ipython3",
   "version": "3.7.0"
  }
 },
 "nbformat": 4,
 "nbformat_minor": 2
}
