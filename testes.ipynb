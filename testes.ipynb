{
 "cells": [
  {
   "cell_type": "code",
   "execution_count": 126,
   "metadata": {},
   "outputs": [
    {
     "ename": "ModuleNotFoundError",
     "evalue": "No module named 'aiohttp'",
     "output_type": "error",
     "traceback": [
      "\u001b[0;31m---------------------------------------------------------------------------\u001b[0m",
      "\u001b[0;31mModuleNotFoundError\u001b[0m                       Traceback (most recent call last)",
      "\u001b[0;32m<ipython-input-126-fb734301c74f>\u001b[0m in \u001b[0;36m<module>\u001b[0;34m()\u001b[0m\n\u001b[1;32m      2\u001b[0m \u001b[0;32mimport\u001b[0m \u001b[0mpandas\u001b[0m \u001b[0;32mas\u001b[0m \u001b[0mpd\u001b[0m\u001b[0;34m\u001b[0m\u001b[0m\n\u001b[1;32m      3\u001b[0m \u001b[0;32mimport\u001b[0m \u001b[0masyncio\u001b[0m\u001b[0;34m\u001b[0m\u001b[0m\n\u001b[0;32m----> 4\u001b[0;31m \u001b[0;32mimport\u001b[0m \u001b[0maiohttp\u001b[0m\u001b[0;34m\u001b[0m\u001b[0m\n\u001b[0m\u001b[1;32m      5\u001b[0m \u001b[0;32mimport\u001b[0m \u001b[0mjson\u001b[0m\u001b[0;34m\u001b[0m\u001b[0m\n\u001b[1;32m      6\u001b[0m \u001b[0;32mimport\u001b[0m \u001b[0mcsv\u001b[0m\u001b[0;34m\u001b[0m\u001b[0m\n",
      "\u001b[0;31mModuleNotFoundError\u001b[0m: No module named 'aiohttp'"
     ]
    }
   ],
   "source": [
    "import numpy as np\n",
    "import pandas as pd\n",
    "import asyncio\n",
    "import aiohttp\n",
    "import json\n",
    "import csv"
   ]
  },
  {
   "cell_type": "code",
   "execution_count": 183,
   "metadata": {},
   "outputs": [],
   "source": [
    "import requests\n",
    "import json\n",
    "import time\n",
    "from datetime import datetime\n",
    "from datetime import date\n",
    "import numpy as np\n",
    "import pandas as pd\n",
    "\n",
    "def get_markets(api = \"cryptowatch\", active = True):\n",
    "    \"\"\"get markets available in API\"\"\"\n",
    "    if api == \"cryptowatch\":\n",
    "        try:\n",
    "            r = requests.get(\"https://api.cryptowat.ch/markets\").json()['result']\n",
    "            if (active):\n",
    "                exchanges = {item['exchange'] for item in r if item['active'] is True}\n",
    "            else:\n",
    "                exchanges = {item['exchange'] for item in r}\n",
    "        except:\n",
    "            print(\"Error: disfunctional API from Cryptowatch\")\n",
    "    return exchanges\n",
    "\n",
    "def get_pairs(api = \"cryptowatch\", active = True):\n",
    "    \"\"\"get pairs available in API\"\"\"\n",
    "    if api == \"cryptowatch\":\n",
    "        try:\n",
    "            r = requests.get(\"https://api.cryptowat.ch/markets\").json()['result']\n",
    "            if (active):\n",
    "                pairs = {item['pair'] for item in r if item['active'] is True}\n",
    "            else:\n",
    "                pairs = {item['pair'] for item in r}\n",
    "        except:\n",
    "            print(\"Error: disfunctional API from Cryptowatch\")\n",
    "    return pairs\n",
    "\n"
   ]
  },
  {
   "cell_type": "code",
   "execution_count": 184,
   "metadata": {},
   "outputs": [
    {
     "name": "stdout",
     "output_type": "stream",
     "text": [
      "1127\n",
      "1155\n",
      "25\n",
      "32\n"
     ]
    }
   ],
   "source": [
    "print(len(get_pairs()))\n",
    "print(len(get_pairs(active=False)))\n",
    "print(len(get_markets()))\n",
    "print(len(get_markets(active=False)))"
   ]
  },
  {
   "cell_type": "code",
   "execution_count": 170,
   "metadata": {},
   "outputs": [],
   "source": [
    "def get_ohlc(market, pair, period = 1440, api = \"cryptowatch\", start = \"\", end = \"\", local_timezone = True):\n",
    "    \"\"\"get OHLC prices available in API\"\"\"\n",
    "    period *= 60\n",
    "    period = str(period)\n",
    "    params = []\n",
    "    url = \"https://api.cryptowat.ch/markets/\" + market + \"/\" + pair + \"/ohlc\"\n",
    "    print(url)\n",
    "    if (end == \"\"):\n",
    "        before = \"\"\n",
    "    else:\n",
    "        before = time.mktime(time.strptime(end, \"%d %m %y %H %M\"))\n",
    "    if (start == \"\"):\n",
    "        after = start\n",
    "    else:\n",
    "        after = time.mktime(time.strptime(start, \"%d %m %y %H %M\"))\n",
    "    if (not before or not after):\n",
    "        prms = [('before', before), ('after', after)]\n",
    "    else:\n",
    "        prms = {'before': int(before) , 'after': int(after) }\n",
    "\n",
    "#    print('params',prms)\n",
    "    \n",
    "    if api == \"cryptowatch\":\n",
    "        try:\n",
    "            r = requests.get(url, params=prms).json()['result'][period]\n",
    "            #ohlc = [item['pair'] for item in r]\n",
    "            if (local_timezone):            \n",
    "                a = pd.DataFrame(r, columns = ['date(local)','open','high','low','close','volume','neg'])\n",
    "                a[a.columns[0]] = pd.to_datetime(a[a.columns[0]] - time.timezone, unit = 's')\n",
    "                return a\n",
    "            else:\n",
    "                a = pd.DataFrame(r, columns = ['date(utc)','open','high','low','close','volume','neg'])\n",
    "                a[a.columns[0]] = pd.to_datetime(a[a.columns[0]], unit = 's')\n",
    "                return a               \n",
    "                \n",
    "\n",
    "        except:\n",
    "            print(\"Error: disfunctional API from Cryptowatch\")\n",
    "            \n",
    "#columns = ['period','open','high','low','close','volume','neg']    "
   ]
  },
  {
   "cell_type": "code",
   "execution_count": 171,
   "metadata": {},
   "outputs": [
    {
     "name": "stdout",
     "output_type": "stream",
     "text": [
      "10800\n",
      "https://api.cryptowat.ch/markets/bitfinex/btcusd/ohlc\n",
      "https://api.cryptowat.ch/markets/bitfinex/btcusd/ohlc\n"
     ]
    }
   ],
   "source": [
    "#a = get_ohlc(\"bitfinex\", \"btcusd\", period = 1, start = time.time()-24*60*60, end = time.time())\n",
    "\n",
    "s1 = \"15 07 18 11 40\"\n",
    "e1 = \"15 07 18 11 50\"\n",
    "print(time.timezone)\n",
    "a = get_ohlc(\"bitfinex\", \"btcusd\", period = 5, start = s1, end = e1)\n",
    "b = get_ohlc(\"bitfinex\", \"btcusd\", period = 5)\n",
    "\n",
    "\n"
   ]
  },
  {
   "cell_type": "code",
   "execution_count": 178,
   "metadata": {},
   "outputs": [
    {
     "name": "stdout",
     "output_type": "stream",
     "text": [
      "1155\n",
      "1155\n"
     ]
    }
   ],
   "source": [
    "\n",
    "\n"
   ]
  },
  {
   "cell_type": "code",
   "execution_count": 159,
   "metadata": {
    "scrolled": true
   },
   "outputs": [
    {
     "data": {
      "text/html": [
       "<div>\n",
       "<style scoped>\n",
       "    .dataframe tbody tr th:only-of-type {\n",
       "        vertical-align: middle;\n",
       "    }\n",
       "\n",
       "    .dataframe tbody tr th {\n",
       "        vertical-align: top;\n",
       "    }\n",
       "\n",
       "    .dataframe thead th {\n",
       "        text-align: right;\n",
       "    }\n",
       "</style>\n",
       "<table border=\"1\" class=\"dataframe\">\n",
       "  <thead>\n",
       "    <tr style=\"text-align: right;\">\n",
       "      <th></th>\n",
       "      <th>date(local)</th>\n",
       "      <th>open</th>\n",
       "      <th>high</th>\n",
       "      <th>low</th>\n",
       "      <th>close</th>\n",
       "      <th>volume</th>\n",
       "      <th>neg</th>\n",
       "    </tr>\n",
       "  </thead>\n",
       "  <tbody>\n",
       "    <tr>\n",
       "      <th>0</th>\n",
       "      <td>2018-07-15 10:54:00</td>\n",
       "      <td>6352.0</td>\n",
       "      <td>6352.0</td>\n",
       "      <td>6351.9</td>\n",
       "      <td>6352.0</td>\n",
       "      <td>16.447218</td>\n",
       "      <td>104472.63000</td>\n",
       "    </tr>\n",
       "    <tr>\n",
       "      <th>1</th>\n",
       "      <td>2018-07-15 10:55:00</td>\n",
       "      <td>6352.0</td>\n",
       "      <td>6352.0</td>\n",
       "      <td>6352.0</td>\n",
       "      <td>6352.0</td>\n",
       "      <td>0.441028</td>\n",
       "      <td>2801.41000</td>\n",
       "    </tr>\n",
       "    <tr>\n",
       "      <th>2</th>\n",
       "      <td>2018-07-15 10:56:00</td>\n",
       "      <td>6351.9</td>\n",
       "      <td>6351.9</td>\n",
       "      <td>6351.9</td>\n",
       "      <td>6351.9</td>\n",
       "      <td>0.120406</td>\n",
       "      <td>764.80566</td>\n",
       "    </tr>\n",
       "    <tr>\n",
       "      <th>3</th>\n",
       "      <td>2018-07-15 10:57:00</td>\n",
       "      <td>6351.9</td>\n",
       "      <td>6352.0</td>\n",
       "      <td>6351.9</td>\n",
       "      <td>6352.0</td>\n",
       "      <td>0.064003</td>\n",
       "      <td>406.54788</td>\n",
       "    </tr>\n",
       "    <tr>\n",
       "      <th>4</th>\n",
       "      <td>2018-07-15 10:58:00</td>\n",
       "      <td>6352.0</td>\n",
       "      <td>6352.0</td>\n",
       "      <td>6351.6</td>\n",
       "      <td>6351.6</td>\n",
       "      <td>5.213264</td>\n",
       "      <td>33114.18000</td>\n",
       "    </tr>\n",
       "    <tr>\n",
       "      <th>5</th>\n",
       "      <td>2018-07-15 10:59:00</td>\n",
       "      <td>6351.7</td>\n",
       "      <td>6351.7</td>\n",
       "      <td>6351.6</td>\n",
       "      <td>6351.7</td>\n",
       "      <td>1.844688</td>\n",
       "      <td>11716.79600</td>\n",
       "    </tr>\n",
       "    <tr>\n",
       "      <th>6</th>\n",
       "      <td>2018-07-15 11:00:00</td>\n",
       "      <td>6351.6</td>\n",
       "      <td>6351.7</td>\n",
       "      <td>6351.6</td>\n",
       "      <td>6351.6</td>\n",
       "      <td>0.087274</td>\n",
       "      <td>554.32983</td>\n",
       "    </tr>\n",
       "    <tr>\n",
       "      <th>7</th>\n",
       "      <td>2018-07-15 11:01:00</td>\n",
       "      <td>6351.7</td>\n",
       "      <td>6351.7</td>\n",
       "      <td>6351.0</td>\n",
       "      <td>6351.0</td>\n",
       "      <td>8.948482</td>\n",
       "      <td>56832.10000</td>\n",
       "    </tr>\n",
       "    <tr>\n",
       "      <th>8</th>\n",
       "      <td>2018-07-15 11:02:00</td>\n",
       "      <td>6351.0</td>\n",
       "      <td>6351.1</td>\n",
       "      <td>6351.0</td>\n",
       "      <td>6351.0</td>\n",
       "      <td>2.698791</td>\n",
       "      <td>17140.02300</td>\n",
       "    </tr>\n",
       "    <tr>\n",
       "      <th>9</th>\n",
       "      <td>2018-07-15 11:03:00</td>\n",
       "      <td>6351.0</td>\n",
       "      <td>6351.1</td>\n",
       "      <td>6351.0</td>\n",
       "      <td>6351.0</td>\n",
       "      <td>1.350000</td>\n",
       "      <td>8573.85800</td>\n",
       "    </tr>\n",
       "    <tr>\n",
       "      <th>10</th>\n",
       "      <td>2018-07-15 11:04:00</td>\n",
       "      <td>6351.1</td>\n",
       "      <td>6351.2</td>\n",
       "      <td>6351.1</td>\n",
       "      <td>6351.2</td>\n",
       "      <td>1.309820</td>\n",
       "      <td>8318.80000</td>\n",
       "    </tr>\n",
       "  </tbody>\n",
       "</table>\n",
       "</div>"
      ],
      "text/plain": [
       "           date(local)    open    high     low   close     volume  \\\n",
       "0  2018-07-15 10:54:00  6352.0  6352.0  6351.9  6352.0  16.447218   \n",
       "1  2018-07-15 10:55:00  6352.0  6352.0  6352.0  6352.0   0.441028   \n",
       "2  2018-07-15 10:56:00  6351.9  6351.9  6351.9  6351.9   0.120406   \n",
       "3  2018-07-15 10:57:00  6351.9  6352.0  6351.9  6352.0   0.064003   \n",
       "4  2018-07-15 10:58:00  6352.0  6352.0  6351.6  6351.6   5.213264   \n",
       "5  2018-07-15 10:59:00  6351.7  6351.7  6351.6  6351.7   1.844688   \n",
       "6  2018-07-15 11:00:00  6351.6  6351.7  6351.6  6351.6   0.087274   \n",
       "7  2018-07-15 11:01:00  6351.7  6351.7  6351.0  6351.0   8.948482   \n",
       "8  2018-07-15 11:02:00  6351.0  6351.1  6351.0  6351.0   2.698791   \n",
       "9  2018-07-15 11:03:00  6351.0  6351.1  6351.0  6351.0   1.350000   \n",
       "10 2018-07-15 11:04:00  6351.1  6351.2  6351.1  6351.2   1.309820   \n",
       "\n",
       "             neg  \n",
       "0   104472.63000  \n",
       "1     2801.41000  \n",
       "2      764.80566  \n",
       "3      406.54788  \n",
       "4    33114.18000  \n",
       "5    11716.79600  \n",
       "6      554.32983  \n",
       "7    56832.10000  \n",
       "8    17140.02300  \n",
       "9     8573.85800  \n",
       "10    8318.80000  "
      ]
     },
     "execution_count": 159,
     "metadata": {},
     "output_type": "execute_result"
    }
   ],
   "source": []
  },
  {
   "cell_type": "markdown",
   "metadata": {},
   "source": [
    "# Terça-Feira\n",
    "\n",
    "- finalizar get_ohlc() (from datetime to timestamp)\n",
    "\n",
    "- atualizar get_pairs() colocando um parâmetro active = True para retornar só pares ativos\n",
    "\n",
    "```Python \n",
    "pairs = {item['pair'] for item in r if item['active'] is True} ```\n",
    "\n",
    "- O mesmo para mercados\n",
    "\n"
   ]
  },
  {
   "cell_type": "code",
   "execution_count": null,
   "metadata": {
    "scrolled": true
   },
   "outputs": [],
   "source": []
  },
  {
   "cell_type": "code",
   "execution_count": null,
   "metadata": {},
   "outputs": [],
   "source": []
  },
  {
   "cell_type": "code",
   "execution_count": null,
   "metadata": {},
   "outputs": [],
   "source": []
  },
  {
   "cell_type": "code",
   "execution_count": null,
   "metadata": {},
   "outputs": [],
   "source": []
  }
 ],
 "metadata": {
  "kernelspec": {
   "display_name": "Python 2",
   "language": "python",
   "name": "python2"
  },
  "language_info": {
   "codemirror_mode": {
    "name": "ipython",
    "version": 3
   },
   "file_extension": ".py",
   "mimetype": "text/x-python",
   "name": "python",
   "nbconvert_exporter": "python",
   "pygments_lexer": "ipython3",
   "version": "3.6.5"
  }
 },
 "nbformat": 4,
 "nbformat_minor": 2
}
