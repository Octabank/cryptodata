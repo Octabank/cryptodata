{
 "cells": [
  {
   "cell_type": "code",
   "execution_count": 8,
   "metadata": {},
   "outputs": [],
   "source": [
    "import numpy as np\n",
    "import pandas as pd\n",
    "import asyncio\n",
    "import aiohttp\n",
    "import json\n",
    "import csv"
   ]
  },
  {
   "cell_type": "code",
   "execution_count": 160,
   "metadata": {},
   "outputs": [],
   "source": [
    "import requests\n",
    "import json\n",
    "import time\n",
    "from datetime import datetime\n",
    "from datetime import date\n",
    "import numpy as np\n",
    "import pandas as pd\n",
    "\n",
    "def get_markets(api = \"cryptowatch\"):\n",
    "    \"\"\"get markets available in API\"\"\"\n",
    "    if api == \"cryptowatch\":\n",
    "        try:\n",
    "            r = requests.get(\"https://api.cryptowat.ch/markets\").json()['result']\n",
    "            exchanges = {item['exchange'] for item in r}\n",
    "        except:\n",
    "            print(\"Error: disfunctional API from Cryptowatch\")\n",
    "    return exchanges\n",
    "\n",
    "def get_pairs(api = \"cryptowatch\"):\n",
    "    \"\"\"get pairs available in API\"\"\"\n",
    "    if api == \"cryptowatch\":\n",
    "        try:\n",
    "            r = requests.get(\"https://api.cryptowat.ch/markets\").json()['result']\n",
    "            pairs = {item['pair'] for item in r}\n",
    "        except:\n",
    "            print(\"Error: disfunctional API from Cryptowatch\")\n",
    "    return pairs\n",
    "\n"
   ]
  },
  {
   "cell_type": "code",
   "execution_count": 168,
   "metadata": {},
   "outputs": [],
   "source": [
    "def get_ohlc(market, pair, period = 24, api = \"cryptowatch\", before = \"\", after = \"\", local_timezone = True):\n",
    "    \"\"\"get OHLC prices available in API\"\"\"\n",
    "    period *= 3600\n",
    "    period = str(period)\n",
    "    params = []\n",
    "    url = \"https://api.cryptowat.ch/markets/\" + market + \"/\" + pair + \"/ohlc\"\n",
    "    print(url)\n",
    "    if (not before or not after):\n",
    "        params = [('before', before), ('after', after)]\n",
    "    if api == \"cryptowatch\":\n",
    "        try:\n",
    "            r = requests.get(url).json()['result'][period]\n",
    "            #ohlc = [item['pair'] for item in r]\n",
    "            if (local_timezone):            \n",
    "                a = pd.DataFrame(r, columns = ['date(local)','open','high','low','close','volume','neg'])\n",
    "                a[a.columns[0]] = pd.to_datetime(a[a.columns[0]] - time.timezone, unit = 's')\n",
    "                return a\n",
    "            else:\n",
    "                a = pd.DataFrame(r, columns = ['date(utc)','open','high','low','close','volume','neg'])\n",
    "                a[a.columns[0]] = pd.to_datetime(a[a.columns[0]], unit = 's')\n",
    "                return a               \n",
    "                \n",
    "        except:\n",
    "            print(\"Error: disfunctional API from Cryptowatch\")\n",
    "            \n",
    "#columns = ['period','open','high','low','close','volume','neg']    "
   ]
  },
  {
   "cell_type": "code",
   "execution_count": 173,
   "metadata": {},
   "outputs": [
    {
     "name": "stdout",
     "output_type": "stream",
     "text": [
      "https://api.cryptowat.ch/markets/bitfinex/btcusd/ohlc\n",
      "https://api.cryptowat.ch/markets/bitfinex/btcusd/ohlc\n",
      "0   2018-06-26 02:00:00\n",
      "1   2018-06-26 03:00:00\n",
      "2   2018-06-26 04:00:00\n",
      "3   2018-06-26 05:00:00\n",
      "4   2018-06-26 06:00:00\n",
      "5   2018-06-26 07:00:00\n",
      "6   2018-06-26 08:00:00\n",
      "7   2018-06-26 09:00:00\n",
      "8   2018-06-26 10:00:00\n",
      "9   2018-06-26 11:00:00\n",
      "Name: date(utc), dtype: datetime64[ns]\n",
      "0   2018-06-25 23:00:00\n",
      "1   2018-06-26 00:00:00\n",
      "2   2018-06-26 01:00:00\n",
      "3   2018-06-26 02:00:00\n",
      "4   2018-06-26 03:00:00\n",
      "5   2018-06-26 04:00:00\n",
      "6   2018-06-26 05:00:00\n",
      "7   2018-06-26 06:00:00\n",
      "8   2018-06-26 07:00:00\n",
      "9   2018-06-26 08:00:00\n",
      "Name: date(local), dtype: datetime64[ns]\n"
     ]
    }
   ],
   "source": [
    "a = get_ohlc(\"bitfinex\", \"btcusd\", period = 1, local_timezone = False)\n",
    "#a.head()\n",
    "b = get_ohlc(\"bitfinex\", \"btcusd\", period = 1)\n",
    "#b.head()\n",
    "print(a[a.columns[0]][0:10])\n",
    "\n",
    "print(b[b.columns[0]][0:10])\n"
   ]
  },
  {
   "cell_type": "code",
   "execution_count": 174,
   "metadata": {},
   "outputs": [
    {
     "data": {
      "text/html": [
       "<div>\n",
       "<style scoped>\n",
       "    .dataframe tbody tr th:only-of-type {\n",
       "        vertical-align: middle;\n",
       "    }\n",
       "\n",
       "    .dataframe tbody tr th {\n",
       "        vertical-align: top;\n",
       "    }\n",
       "\n",
       "    .dataframe thead th {\n",
       "        text-align: right;\n",
       "    }\n",
       "</style>\n",
       "<table border=\"1\" class=\"dataframe\">\n",
       "  <thead>\n",
       "    <tr style=\"text-align: right;\">\n",
       "      <th></th>\n",
       "      <th>date(utc)</th>\n",
       "      <th>open</th>\n",
       "      <th>high</th>\n",
       "      <th>low</th>\n",
       "      <th>close</th>\n",
       "      <th>volume</th>\n",
       "      <th>neg</th>\n",
       "    </tr>\n",
       "  </thead>\n",
       "  <tbody>\n",
       "    <tr>\n",
       "      <th>495</th>\n",
       "      <td>2018-07-16 17:00:00</td>\n",
       "      <td>6635.0</td>\n",
       "      <td>6652.2</td>\n",
       "      <td>6620.0</td>\n",
       "      <td>6620.1</td>\n",
       "      <td>669.53260</td>\n",
       "      <td>4443321.0</td>\n",
       "    </tr>\n",
       "    <tr>\n",
       "      <th>496</th>\n",
       "      <td>2018-07-16 18:00:00</td>\n",
       "      <td>6620.5</td>\n",
       "      <td>6711.0</td>\n",
       "      <td>6620.3</td>\n",
       "      <td>6671.3</td>\n",
       "      <td>2524.33400</td>\n",
       "      <td>16872446.0</td>\n",
       "    </tr>\n",
       "    <tr>\n",
       "      <th>497</th>\n",
       "      <td>2018-07-16 19:00:00</td>\n",
       "      <td>6671.2</td>\n",
       "      <td>6703.7</td>\n",
       "      <td>6665.8</td>\n",
       "      <td>6671.1</td>\n",
       "      <td>821.73773</td>\n",
       "      <td>5490766.0</td>\n",
       "    </tr>\n",
       "    <tr>\n",
       "      <th>498</th>\n",
       "      <td>2018-07-16 20:00:00</td>\n",
       "      <td>6671.1</td>\n",
       "      <td>6689.6</td>\n",
       "      <td>6636.7</td>\n",
       "      <td>6681.1</td>\n",
       "      <td>857.29760</td>\n",
       "      <td>5707303.5</td>\n",
       "    </tr>\n",
       "    <tr>\n",
       "      <th>499</th>\n",
       "      <td>2018-07-16 21:00:00</td>\n",
       "      <td>6680.8</td>\n",
       "      <td>6680.9</td>\n",
       "      <td>6660.0</td>\n",
       "      <td>6665.8</td>\n",
       "      <td>205.49765</td>\n",
       "      <td>1370953.9</td>\n",
       "    </tr>\n",
       "  </tbody>\n",
       "</table>\n",
       "</div>"
      ],
      "text/plain": [
       "              date(utc)    open    high     low   close      volume  \\\n",
       "495 2018-07-16 17:00:00  6635.0  6652.2  6620.0  6620.1   669.53260   \n",
       "496 2018-07-16 18:00:00  6620.5  6711.0  6620.3  6671.3  2524.33400   \n",
       "497 2018-07-16 19:00:00  6671.2  6703.7  6665.8  6671.1   821.73773   \n",
       "498 2018-07-16 20:00:00  6671.1  6689.6  6636.7  6681.1   857.29760   \n",
       "499 2018-07-16 21:00:00  6680.8  6680.9  6660.0  6665.8   205.49765   \n",
       "\n",
       "            neg  \n",
       "495   4443321.0  \n",
       "496  16872446.0  \n",
       "497   5490766.0  \n",
       "498   5707303.5  \n",
       "499   1370953.9  "
      ]
     },
     "execution_count": 174,
     "metadata": {},
     "output_type": "execute_result"
    }
   ],
   "source": [
    "a.tail()"
   ]
  },
  {
   "cell_type": "code",
   "execution_count": null,
   "metadata": {},
   "outputs": [],
   "source": [
    "np.random.random(5)"
   ]
  },
  {
   "cell_type": "code",
   "execution_count": null,
   "metadata": {},
   "outputs": [],
   "source": [
    "e = get_markets()\n",
    "print(e)"
   ]
  },
  {
   "cell_type": "code",
   "execution_count": 138,
   "metadata": {
    "scrolled": true
   },
   "outputs": [
    {
     "name": "stdout",
     "output_type": "stream",
     "text": [
      "2018-06-25\n"
     ]
    }
   ],
   "source": [
    "from datetime import date\n",
    "print(date.fromtimestamp(1529978400))"
   ]
  },
  {
   "cell_type": "code",
   "execution_count": 125,
   "metadata": {},
   "outputs": [
    {
     "ename": "TypeError",
     "evalue": "an integer is required (got type str)",
     "output_type": "error",
     "traceback": [
      "\u001b[0;31m---------------------------------------------------------------------------\u001b[0m",
      "\u001b[0;31mTypeError\u001b[0m                                 Traceback (most recent call last)",
      "\u001b[0;32m<ipython-input-125-89ec95e6ff0a>\u001b[0m in \u001b[0;36m<module>\u001b[0;34m()\u001b[0m\n\u001b[0;32m----> 1\u001b[0;31m \u001b[0mdate\u001b[0m\u001b[0;34m.\u001b[0m\u001b[0mfromtimestamp\u001b[0m\u001b[0;34m(\u001b[0m\u001b[0ma\u001b[0m\u001b[0;34m[\u001b[0m\u001b[0;34m'date'\u001b[0m\u001b[0;34m]\u001b[0m\u001b[0;34m[\u001b[0m\u001b[0;36m0\u001b[0m\u001b[0;34m]\u001b[0m\u001b[0;34m)\u001b[0m\u001b[0;34m\u001b[0m\u001b[0m\n\u001b[0m",
      "\u001b[0;31mTypeError\u001b[0m: an integer is required (got type str)"
     ]
    }
   ],
   "source": [
    "date.fromtimestamp(a['date'][0])"
   ]
  },
  {
   "cell_type": "code",
   "execution_count": null,
   "metadata": {},
   "outputs": [],
   "source": []
  },
  {
   "cell_type": "code",
   "execution_count": null,
   "metadata": {},
   "outputs": [],
   "source": []
  }
 ],
 "metadata": {
  "kernelspec": {
   "display_name": "Python 3",
   "language": "python",
   "name": "python3"
  },
  "language_info": {
   "codemirror_mode": {
    "name": "ipython",
    "version": 3
   },
   "file_extension": ".py",
   "mimetype": "text/x-python",
   "name": "python",
   "nbconvert_exporter": "python",
   "pygments_lexer": "ipython3",
   "version": "3.7.0"
  }
 },
 "nbformat": 4,
 "nbformat_minor": 2
}
