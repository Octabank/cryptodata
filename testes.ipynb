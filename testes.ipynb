{
 "cells": [
  {
   "cell_type": "code",
   "execution_count": 8,
   "metadata": {},
   "outputs": [],
   "source": [
    "import numpy as np\n",
    "import pandas as pd\n",
    "import asyncio\n",
    "import aiohttp\n",
    "import json\n",
    "import csv"
   ]
  },
  {
   "cell_type": "code",
   "execution_count": 160,
   "metadata": {},
   "outputs": [],
   "source": [
    "import requests\n",
    "import json\n",
    "import time\n",
    "from datetime import datetime\n",
    "from datetime import date\n",
    "import numpy as np\n",
    "import pandas as pd\n",
    "\n",
    "def get_markets(api = \"cryptowatch\"):\n",
    "    \"\"\"get markets available in API\"\"\"\n",
    "    if api == \"cryptowatch\":\n",
    "        try:\n",
    "            r = requests.get(\"https://api.cryptowat.ch/markets\").json()['result']\n",
    "            exchanges = {item['exchange'] for item in r}\n",
    "        except:\n",
    "            print(\"Error: disfunctional API from Cryptowatch\")\n",
    "    return exchanges\n",
    "\n",
    "def get_pairs(api = \"cryptowatch\"):\n",
    "    \"\"\"get pairs available in API\"\"\"\n",
    "    if api == \"cryptowatch\":\n",
    "        try:\n",
    "            r = requests.get(\"https://api.cryptowat.ch/markets\").json()['result']\n",
    "            pairs = {item['pair'] for item in r}\n",
    "        except:\n",
    "            print(\"Error: disfunctional API from Cryptowatch\")\n",
    "    return pairs\n",
    "\n"
   ]
  },
  {
   "cell_type": "code",
   "execution_count": 195,
   "metadata": {},
   "outputs": [],
   "source": [
    "def get_ohlc(market, pair, period = 1440, api = \"cryptowatch\", start = \"\", end = \"\", local_timezone = True):\n",
    "    \"\"\"get OHLC prices available in API\"\"\"\n",
    "    period *= 60\n",
    "    period = str(period)\n",
    "    params = []\n",
    "    url = \"https://api.cryptowat.ch/markets/\" + market + \"/\" + pair + \"/ohlc\"\n",
    "    print(url)\n",
    "    before = end\n",
    "    after = start\n",
    "    if (not before or not after):\n",
    "        params = [('before', before), ('after', after)]\n",
    "    print('params',params)\n",
    "    if api == \"cryptowatch\":\n",
    "        try:\n",
    "            r = requests.get(url).json()['result'][period]\n",
    "            #ohlc = [item['pair'] for item in r]\n",
    "            if (local_timezone):            \n",
    "                a = pd.DataFrame(r, columns = ['date(local)','open','high','low','close','volume','neg'])\n",
    "                a[a.columns[0]] = pd.to_datetime(a[a.columns[0]] - time.timezone, unit = 's')\n",
    "                return a\n",
    "            else:\n",
    "                a = pd.DataFrame(r, columns = ['date(utc)','open','high','low','close','volume','neg'])\n",
    "                a[a.columns[0]] = pd.to_datetime(a[a.columns[0]], unit = 's')\n",
    "                return a               \n",
    "                \n",
    "        except:\n",
    "            print(\"Error: disfunctional API from Cryptowatch\")\n",
    "            \n",
    "#columns = ['period','open','high','low','close','volume','neg']    "
   ]
  },
  {
   "cell_type": "code",
   "execution_count": 203,
   "metadata": {},
   "outputs": [
    {
     "name": "stdout",
     "output_type": "stream",
     "text": [
      "time.struct_time(tm_year=2018, tm_mon=7, tm_mday=16, tm_hour=13, tm_min=25, tm_sec=0, tm_wday=0, tm_yday=197, tm_isdst=-1)\n",
      "1531758300.0\n",
      "1531777666.5396311\n"
     ]
    }
   ],
   "source": [
    "#a = get_ohlc(\"bitfinex\", \"btcusd\", period = 24, local_timezone = False)\n",
    "\n",
    "before = \"16 07 18 13 25\"\n",
    "c = time.strptime(before, \"%d %m %y %H %M\")   \n",
    "print(c)\n",
    "before_stamp = time.mktime(c)\n",
    "after_stamp = time.time()\n",
    "\n",
    "print(before_stamp)\n",
    "print(after_stamp)"
   ]
  },
  {
   "cell_type": "code",
   "execution_count": 174,
   "metadata": {},
   "outputs": [
    {
     "data": {
      "text/html": [
       "<div>\n",
       "<style scoped>\n",
       "    .dataframe tbody tr th:only-of-type {\n",
       "        vertical-align: middle;\n",
       "    }\n",
       "\n",
       "    .dataframe tbody tr th {\n",
       "        vertical-align: top;\n",
       "    }\n",
       "\n",
       "    .dataframe thead th {\n",
       "        text-align: right;\n",
       "    }\n",
       "</style>\n",
       "<table border=\"1\" class=\"dataframe\">\n",
       "  <thead>\n",
       "    <tr style=\"text-align: right;\">\n",
       "      <th></th>\n",
       "      <th>date(utc)</th>\n",
       "      <th>open</th>\n",
       "      <th>high</th>\n",
       "      <th>low</th>\n",
       "      <th>close</th>\n",
       "      <th>volume</th>\n",
       "      <th>neg</th>\n",
       "    </tr>\n",
       "  </thead>\n",
       "  <tbody>\n",
       "    <tr>\n",
       "      <th>495</th>\n",
       "      <td>2018-07-16 17:00:00</td>\n",
       "      <td>6635.0</td>\n",
       "      <td>6652.2</td>\n",
       "      <td>6620.0</td>\n",
       "      <td>6620.1</td>\n",
       "      <td>669.53260</td>\n",
       "      <td>4443321.0</td>\n",
       "    </tr>\n",
       "    <tr>\n",
       "      <th>496</th>\n",
       "      <td>2018-07-16 18:00:00</td>\n",
       "      <td>6620.5</td>\n",
       "      <td>6711.0</td>\n",
       "      <td>6620.3</td>\n",
       "      <td>6671.3</td>\n",
       "      <td>2524.33400</td>\n",
       "      <td>16872446.0</td>\n",
       "    </tr>\n",
       "    <tr>\n",
       "      <th>497</th>\n",
       "      <td>2018-07-16 19:00:00</td>\n",
       "      <td>6671.2</td>\n",
       "      <td>6703.7</td>\n",
       "      <td>6665.8</td>\n",
       "      <td>6671.1</td>\n",
       "      <td>821.73773</td>\n",
       "      <td>5490766.0</td>\n",
       "    </tr>\n",
       "    <tr>\n",
       "      <th>498</th>\n",
       "      <td>2018-07-16 20:00:00</td>\n",
       "      <td>6671.1</td>\n",
       "      <td>6689.6</td>\n",
       "      <td>6636.7</td>\n",
       "      <td>6681.1</td>\n",
       "      <td>857.29760</td>\n",
       "      <td>5707303.5</td>\n",
       "    </tr>\n",
       "    <tr>\n",
       "      <th>499</th>\n",
       "      <td>2018-07-16 21:00:00</td>\n",
       "      <td>6680.8</td>\n",
       "      <td>6680.9</td>\n",
       "      <td>6660.0</td>\n",
       "      <td>6665.8</td>\n",
       "      <td>205.49765</td>\n",
       "      <td>1370953.9</td>\n",
       "    </tr>\n",
       "  </tbody>\n",
       "</table>\n",
       "</div>"
      ],
      "text/plain": [
       "              date(utc)    open    high     low   close      volume  \\\n",
       "495 2018-07-16 17:00:00  6635.0  6652.2  6620.0  6620.1   669.53260   \n",
       "496 2018-07-16 18:00:00  6620.5  6711.0  6620.3  6671.3  2524.33400   \n",
       "497 2018-07-16 19:00:00  6671.2  6703.7  6665.8  6671.1   821.73773   \n",
       "498 2018-07-16 20:00:00  6671.1  6689.6  6636.7  6681.1   857.29760   \n",
       "499 2018-07-16 21:00:00  6680.8  6680.9  6660.0  6665.8   205.49765   \n",
       "\n",
       "            neg  \n",
       "495   4443321.0  \n",
       "496  16872446.0  \n",
       "497   5490766.0  \n",
       "498   5707303.5  \n",
       "499   1370953.9  "
      ]
     },
     "execution_count": 174,
     "metadata": {},
     "output_type": "execute_result"
    }
   ],
   "source": [
    "a.tail()"
   ]
  },
  {
   "cell_type": "code",
   "execution_count": null,
   "metadata": {},
   "outputs": [],
   "source": [
    "from datetime import date\n",
    "print(date.fromtimestamp(1529978400))"
   ]
  },
  {
   "cell_type": "markdown",
   "metadata": {},
   "source": [
    "# Terça-Feira\n",
    "\n",
    "- finalizar get_ohlc() (from datetime to timestamp)\n",
    "\n",
    "- atualizar get_pairs() colocando um parâmetro active = True para retornar só pares ativos\n",
    "\n",
    "```Python \n",
    "pairs = {item['pair'] for item in r if item['active'] is True} ```\n",
    "\n",
    "- O mesmo para mercados\n",
    "\n"
   ]
  },
  {
   "cell_type": "code",
   "execution_count": null,
   "metadata": {
    "scrolled": true
   },
   "outputs": [],
   "source": []
  },
  {
   "cell_type": "code",
   "execution_count": null,
   "metadata": {},
   "outputs": [],
   "source": []
  },
  {
   "cell_type": "code",
   "execution_count": null,
   "metadata": {},
   "outputs": [],
   "source": []
  },
  {
   "cell_type": "code",
   "execution_count": null,
   "metadata": {},
   "outputs": [],
   "source": []
  }
 ],
 "metadata": {
  "kernelspec": {
   "display_name": "Python 3",
   "language": "python",
   "name": "python3"
  },
  "language_info": {
   "codemirror_mode": {
    "name": "ipython",
    "version": 3
   },
   "file_extension": ".py",
   "mimetype": "text/x-python",
   "name": "python",
   "nbconvert_exporter": "python",
   "pygments_lexer": "ipython3",
   "version": "3.6.5"
  }
 },
 "nbformat": 4,
 "nbformat_minor": 2
}
