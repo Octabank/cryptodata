{
 "cells": [
  {
   "cell_type": "code",
   "execution_count": 69,
   "metadata": {},
   "outputs": [],
   "source": [
    "import numpy as np\n",
    "import pandas as pd\n",
    "#import asyncio\n",
    "#import aiohttp\n",
    "import json\n",
    "import csv\n",
    "import requests\n",
    "import time\n",
    "from cryptodata import get_markets, get_pairs, get_ohlc"
   ]
  },
  {
   "cell_type": "code",
   "execution_count": 70,
   "metadata": {},
   "outputs": [],
   "source": [
    "pd.set_option('display.max_rows',10)"
   ]
  },
  {
   "cell_type": "code",
   "execution_count": 3,
   "metadata": {},
   "outputs": [],
   "source": [
    "def list_markets_containing_pair(pair='btcusd'):\n",
    "    try:\n",
    "        r = requests.get(\"https://api.cryptowat.ch/markets\").json()['result']\n",
    "        exchanges = {item['exchange'] for item in r if (item['active'] is True and item['pair'] == pair)}\n",
    "        return exchanges\n",
    "    except:\n",
    "        print('error')\n",
    "\n",
    "def list_pairs(pairs=get_pairs(), p1='btc'):\n",
    "    pairs = list(pairs)\n",
    "    L = []\n",
    "    for pair in pairs:\n",
    "        if p1 == pair[:len(p1)]:\n",
    "            L.append(pair)\n",
    "    return L\n",
    "\n",
    "def list_pairs_in_market(market):\n",
    "    r = requests.get(\"https://api.cryptowat.ch/markets/\"+market).json()['result']\n",
    "    market_pairs = {item['pair'] for item in r if item['active'] is True}\n",
    "    return market_pairs"
   ]
  },
  {
   "cell_type": "code",
   "execution_count": 67,
   "metadata": {},
   "outputs": [],
   "source": [
    "def get_ohlc(market, pair, period = 1440, api = \"cryptowatch\", start = \"\", end = \"\", local_timezone = True):\n",
    "    \"\"\"get OHLC prices available in API\"\"\"\n",
    "    \n",
    "    period *= 60\n",
    "    period = str(period)\n",
    "    params = []\n",
    "    dates = [\"\",\"\"]\n",
    "    url = \"https://api.cryptowat.ch/markets/\" + market + \"/\" + pair + \"/ohlc\"\n",
    "    \n",
    "    for i, date in enumerate([start, end]):\n",
    "        if (not date):\n",
    "            dates[i] = date\n",
    "        else:\n",
    "            try:\n",
    "                dates[i] = int(time.mktime(time.strptime(date, \"%d %m %y %H %M\"))) #+ local_timezone*time.timezone\n",
    "                print(local_timezone,time.timezone,date,dates[i])\n",
    "                print(time.strptime(date, \"%d %m %y %H %M\"), time.mktime(time.strptime(date, \"%d %m %y %H %M\")))\n",
    "            except:\n",
    "                print(\"Error: Datetime format d m y H M\")\n",
    "    #dates[0] = int(1518134400)\n",
    "    prms = {'before': dates[1], 'after': dates[0]}\n",
    "    print(dates[0] - local_timezone*time.timezone)\n",
    "#    print('params',prms)\n",
    "    \n",
    "    if api == \"cryptowatch\":\n",
    "        try:\n",
    "            r = requests.get(url, params=prms).json()['result'][period]\n",
    "            print(r)\n",
    "            #ohlc = [item['pair'] for item in r]          \n",
    "            a = pd.DataFrame(r, columns = ['date(local)','open','high','low','close','volume','neg'])\n",
    "            a[a.columns[0]] = pd.to_datetime(a[a.columns[0]] - local_timezone*time.timezone, unit = 's')\n",
    "            return a        \n",
    "        except:\n",
    "            print(\"Error: disfunctional API from Cryptowatch\")\n",
    "            \n",
    "#columns = ['period','open','high','low','close','volume','neg']    "
   ]
  },
  {
   "cell_type": "code",
   "execution_count": 5,
   "metadata": {},
   "outputs": [],
   "source": [
    "def compare_pair_across_markets(pair = 'btcusd'):\n",
    "    a = list_markets_containing_pair(pair)\n",
    "    print(a)\n",
    "    c = {}\n",
    "    for m in list(a):\n",
    "        print(m, pair)\n",
    "        c[m] = get_ohlc(m,pair)\n",
    "    return c"
   ]
  },
  {
   "cell_type": "code",
   "execution_count": 6,
   "metadata": {},
   "outputs": [],
   "source": [
    "import os\n",
    "import shutil\n",
    "\n",
    "class Pair:\n",
    "    markets = {}\n",
    "    data = {}\n",
    "    def __init__(self, name, start=0, end=time.time(), period=1440):\n",
    "        self.name = str(name)\n",
    "        self.period = period    \n",
    "        self.start = start\n",
    "        self.end = int(end)\n",
    "        self.markets = list_markets_containing_pair(self.name)\n",
    "        self.metadata = pd.DataFrame([period, start, end])\n",
    "        \n",
    "    \n",
    "\n",
    "def download_pair_data(pair, force_update = False):\n",
    "    try:\n",
    "        os.mkdir(pair.name)\n",
    "    except:\n",
    "        try:\n",
    "            m = pd.read_csv('pair_metadata.csv')\n",
    "        except:\n",
    "#        if not (m == pair.metadata).all():\n",
    "            shutil.rmtree(pair.name)\n",
    "            os.mkdir(pair.name)\n",
    "        #print('m\\n',m)\n",
    "        #print('pair.metadata', pair.metadata)\n",
    "        #if not (m == pair.metadata).all():\n",
    "        #    shutil.rmtree(pair.name)\n",
    "        #    os.mkdir(pair.name)\n",
    "    \n",
    "    #print(pair.markets)\n",
    "    for key in list(pair.markets):\n",
    "        pair.data[key].to_csv(pair.name+'/'+key+'.csv')\n",
    "    \n",
    "    pair.metadata.to_csv('pair_metadata.csv')\n",
    "\n",
    "def load_pair_data(name, start = 0, end = time.time(), period = 1440):\n",
    "    mkt = os.listdir(name)\n",
    "    for i in range(len(mkt)):\n",
    "        mkt[i] = mkt[i][0:-4]\n",
    "    return mkt"
   ]
  },
  {
   "cell_type": "code",
   "execution_count": 62,
   "metadata": {},
   "outputs": [],
   "source": [
    "def Timestamp_from_string(s='31 12 99'):\n",
    "    #print(time.mktime(time.strptime(s, \"%d %m %y\")))\n",
    "    return pd.Timestamp(int(time.mktime(time.strptime(s, \"%d %m %y\"))), unit='s')"
   ]
  },
  {
   "cell_type": "code",
   "execution_count": null,
   "metadata": {},
   "outputs": [],
   "source": []
  }
 ],
 "metadata": {
  "kernelspec": {
   "display_name": "Python 3",
   "language": "python",
   "name": "python3"
  },
  "language_info": {
   "codemirror_mode": {
    "name": "ipython",
    "version": 3
   },
   "file_extension": ".py",
   "mimetype": "text/x-python",
   "name": "python",
   "nbconvert_exporter": "python",
   "pygments_lexer": "ipython3",
   "version": "3.6.5"
  }
 },
 "nbformat": 4,
 "nbformat_minor": 2
}
