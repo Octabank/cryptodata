{
 "cells": [
  {
   "cell_type": "code",
   "execution_count": 69,
   "metadata": {},
   "outputs": [],
   "source": [
    "import numpy as np\n",
    "import pandas as pd\n",
    "#import asyncio\n",
    "#import aiohttp\n",
    "import json\n",
    "import csv\n",
    "import requests\n",
    "import json\n",
    "import time\n",
    "from datetime import datetime\n",
    "from datetime import date"
   ]
  },
  {
   "cell_type": "code",
   "execution_count": 70,
   "metadata": {},
   "outputs": [],
   "source": [
    "pd.set_option('display.max_rows',10)"
   ]
  },
  {
   "cell_type": "code",
   "execution_count": 2,
   "metadata": {},
   "outputs": [],
   "source": [
    "def get_markets(api = \"cryptowatch\", active = True):\n",
    "    \"\"\"get markets available in API\"\"\"\n",
    "    if api == \"cryptowatch\":\n",
    "        try:\n",
    "            r = requests.get(\"https://api.cryptowat.ch/markets\").json()['result']\n",
    "            if (active):\n",
    "                exchanges = {item['exchange'] for item in r if item['active'] is True}\n",
    "            else:\n",
    "                exchanges = {item['exchange'] for item in r}\n",
    "        except:\n",
    "            print(\"Error: disfunctional API from Cryptowatch\")\n",
    "            \n",
    "\n",
    "    return exchanges\n",
    "\n",
    "def get_pairs(api = \"cryptowatch\", active = True):\n",
    "    \"\"\"get pairs available in API\"\"\"\n",
    "    if api == \"cryptowatch\":\n",
    "        try:\n",
    "            r = requests.get(\"https://api.cryptowat.ch/markets\").json()['result']\n",
    "            if (active):\n",
    "                pairs = {item['pair'] for item in r if item['active'] is True}\n",
    "            else:\n",
    "                pairs = {item['pair'] for item in r}\n",
    "        except:\n",
    "            print(\"Error: disfunctional API from Cryptowatch\")\n",
    "    return pairs"
   ]
  },
  {
   "cell_type": "code",
   "execution_count": 3,
   "metadata": {},
   "outputs": [],
   "source": [
    "def list_markets_containing_pair(pair='btcusd'):\n",
    "    try:\n",
    "        r = requests.get(\"https://api.cryptowat.ch/markets\").json()['result']\n",
    "        exchanges = {item['exchange'] for item in r if (item['active'] is True and item['pair'] == pair)}\n",
    "        return exchanges\n",
    "    except:\n",
    "        print('error')\n",
    "\n",
    "def list_pairs(pairs=get_pairs(), p1='btc'):\n",
    "    pairs = list(pairs)\n",
    "    L = []\n",
    "    for pair in pairs:\n",
    "        if p1 == pair[:len(p1)]:\n",
    "            L.append(pair)\n",
    "    return L\n",
    "\n",
    "def list_pairs_in_market(market):\n",
    "    r = requests.get(\"https://api.cryptowat.ch/markets/\"+market).json()['result']\n",
    "    market_pairs = {item['pair'] for item in r if item['active'] is True}\n",
    "    return market_pairs"
   ]
  },
  {
   "cell_type": "code",
   "execution_count": 4,
   "metadata": {},
   "outputs": [],
   "source": [
    "def get_ohlc(market, pair, period = 1440, api = \"cryptowatch\", start = \"\", end = \"\", local_timezone = True):\n",
    "    \"\"\"get OHLC prices available in API\"\"\"\n",
    "    period *= 60\n",
    "    period = str(period)\n",
    "    params = []\n",
    "    url = \"https://api.cryptowat.ch/markets/\" + market + \"/\" + pair + \"/ohlc\"\n",
    "#    print(url)\n",
    "    if (end == \"\"):\n",
    "        before = \"\"\n",
    "    else:\n",
    "        before = time.mktime(time.strptime(end, \"%d %m %y %H %M\"))\n",
    "    if (start == \"\"):\n",
    "        after = start\n",
    "    else:\n",
    "        after = time.mktime(time.strptime(start, \"%d %m %y %H %M\"))\n",
    "    if (not before or not after):\n",
    "        prms = [('before', before), ('after', after)]\n",
    "    else:\n",
    "        prms = {'before': int(before) , 'after': int(after) }\n",
    "\n",
    "    \n",
    "    if api == \"cryptowatch\":\n",
    "        try:\n",
    "            r = requests.get(url, params=prms).json()['result'][period]\n",
    "            if (local_timezone):            \n",
    "                a = pd.DataFrame(r, columns = ['date(local)','open','high','low','close','volume','neg'])\n",
    "                a[a.columns[0]] = pd.to_datetime(a[a.columns[0]] - time.timezone, unit = 's')\n",
    "                a = a.set_index('date(local)')\n",
    " \n",
    "                return a\n",
    "            else:\n",
    "                a = pd.DataFrame(r, columns = ['date(utc)','open','high','low','close','volume','neg'])\n",
    "                a[a.columns[0]] = pd.to_datetime(a[a.columns[0]], unit = 's')\n",
    "                a = a.set_index('date(utc)')\n",
    "\n",
    "                return a               \n",
    "                \n",
    "\n",
    "        except:\n",
    "            print(\"Error: disfunctional API from Cryptowatch\")\n",
    "            \n",
    "#columns = ['period','open','high','low','close','volume','neg']    "
   ]
  },
  {
   "cell_type": "code",
   "execution_count": 5,
   "metadata": {},
   "outputs": [],
   "source": [
    "def compare_pair_across_markets(pair = 'btcusd'):\n",
    "    a = list_markets_containing_pair(pair)\n",
    "    print(a)\n",
    "    c = {}\n",
    "    for m in list(a):\n",
    "        print(m, pair)\n",
    "        c[m] = get_ohlc(m,pair)\n",
    "    return c"
   ]
  },
  {
   "cell_type": "code",
   "execution_count": 6,
   "metadata": {},
   "outputs": [],
   "source": [
    "import os\n",
    "import shutil\n",
    "\n",
    "class Pair:\n",
    "    markets = {}\n",
    "    data = {}\n",
    "    def __init__(self, name, start=0, end=time.time(), period=1440):\n",
    "        self.name = str(name)\n",
    "        self.period = period    \n",
    "        self.start = start\n",
    "        self.end = int(end)\n",
    "        self.markets = list_markets_containing_pair(self.name)\n",
    "        self.metadata = pd.DataFrame([period, start, end])\n",
    "        \n",
    "    \n",
    "\n",
    "def download_pair_data(pair, force_update = False):\n",
    "    try:\n",
    "        os.mkdir(pair.name)\n",
    "    except:\n",
    "        try:\n",
    "            m = pd.read_csv('pair_metadata.csv')\n",
    "        except:\n",
    "#        if not (m == pair.metadata).all():\n",
    "            shutil.rmtree(pair.name)\n",
    "            os.mkdir(pair.name)\n",
    "        #print('m\\n',m)\n",
    "        #print('pair.metadata', pair.metadata)\n",
    "        #if not (m == pair.metadata).all():\n",
    "        #    shutil.rmtree(pair.name)\n",
    "        #    os.mkdir(pair.name)\n",
    "    \n",
    "    #print(pair.markets)\n",
    "    for key in list(pair.markets):\n",
    "        pair.data[key].to_csv(pair.name+'/'+key+'.csv')\n",
    "    \n",
    "    pair.metadata.to_csv('pair_metadata.csv')\n",
    "\n",
    "def load_pair_data(name, start = 0, end = time.time(), period = 1440):\n",
    "    mkt = os.listdir(name)\n",
    "    for i in range(len(mkt)):\n",
    "        mkt[i] = mkt[i][0:-4]\n",
    "    return mkt"
   ]
  },
  {
   "cell_type": "code",
   "execution_count": 62,
   "metadata": {},
   "outputs": [],
   "source": [
    "def Timestamp_from_string(s='31 12 99'):\n",
    "    #print(time.mktime(time.strptime(s, \"%d %m %y\")))\n",
    "    return pd.Timestamp(int(time.mktime(time.strptime(s, \"%d %m %y\"))), unit='s')"
   ]
  },
  {
   "cell_type": "code",
   "execution_count": 91,
   "metadata": {},
   "outputs": [],
   "source": [
    "def get_daily_price(asset=\"btc\", api=\"coinmetrics\", data_type=\"price(usd)\", start=0, end=time.time()):\n",
    "    if (api == \"coinmetrics\"):\n",
    "        try:\n",
    "            url =  \"https://coinmetrics.io/api/v1/get_asset_data_for_time_range/\"+asset+\"/\"+data_type\n",
    "            url = url + \"/\"+str(int(start)) +\"/\"+str(int(end))\n",
    "            r = requests.get(url).json()['result']\n",
    "            a = pd.DataFrame(r, columns = ['date(utc)',str(asset)+\" \"+str(data_type)])\n",
    "            #print(url)\n",
    "            a[a.columns[0]] = pd.to_datetime(a[a.columns[0]], unit = 's')\n",
    "\n",
    "            return a\n",
    "        except:\n",
    "            print(\"Error: disfunctional API from Coinmetrics\")            \n",
    "            \n",
    "    else:\n",
    "        return 0\n",
    "\n",
    "\n",
    "def get_assets_from_coimetrics():\n",
    "    url = 'https://coinmetrics.io/api/v1/get_supported_assets'\n",
    "    r  = requests.get(url).json()\n",
    "    return r\n",
    "\n",
    "def get_whole_market_from_coimetrics():\n",
    "    assets = get_assets_from_coimetrics()\n",
    "    market = {}\n",
    "    for asset in assets:\n",
    "        market[asset] = get_daily_price(asset)\n",
    "    return market\n",
    "\n",
    "def merge_market_data(market, start=Timestamp_from_string('01 01 17')):\n",
    "    '''merges the market data from the whole market, dumping coins which are too young '''\n",
    "    assets = list(market.keys())\n",
    "    #print(assets)\n",
    "    #print(range(1,len(assets)))\n",
    "    mkt = market[assets[0]]\n",
    "    for i in range(1, len(assets)):\n",
    "        if market[assets[i]]['date(utc)'][0] < start:\n",
    "            mkt = pd.merge(mkt, market[assets[i]])\n",
    "    \n",
    "    return mkt\n",
    "\n",
    "def rate_of_return(df):\n",
    "    cols = df.columns\n",
    "    #print(cols)\n",
    "    if (type(df[cols[0]][0]) == pd.Timestamp):\n",
    "        a = df[cols[1:]].values\n",
    "        b = a/a[0, :]\n",
    "        df2 = df[cols[0]]\n",
    "        #df2 = pd.merge(df2, pd.Dataframe(b, columns = cols[1:]))\n",
    "        #print(b)\n",
    "        \n",
    "        return b[-1]\n",
    "    else:\n",
    "        print('error return_from_values')\n",
    "\n",
    "def get_coins_series(coins,start=Timestamp_from_string('01 01 17').timestamp()):\n",
    "    returns = get_daily_price(coins[0], start=start)\n",
    "    for i in range(1,len(coins)):\n",
    "        returns = pd.merge(returns, get_daily_price(coins[i], start=start))\n",
    "    return returns\n",
    "\n",
    " \n",
    "def genetic_solver(w,cov,mean):\n",
    "    size = len(mean)\n",
    "    lr = .0005\n",
    "    weights = np.reshape(np.tile(w,size),(size,size) )\n",
    "    s = np.ones((size,size))*lr/2\n",
    "    t = np.eye(size)*lr*1.5\n",
    "    q = weights + t - s\n",
    "    #a  = np.matmul(mean, q)\n",
    "    a = np.matmul(q, mean)\n",
    "    old_mean = np.matmul(mean,w)\n",
    "    new_mean = a[np.argmin(a)]\n",
    "    new_weight = q[np.argmin(a)]\n",
    "    dif = (old_mean-new_mean)/old_mean\n",
    "\n",
    "    if dif < 0.5 and np.abs(w) == w:\n",
    "        return genetic_solver(new_weight, cov, mean)\n",
    "    else:\n",
    "        return new_weight\n",
    "\n"
   ]
  },
  {
   "cell_type": "code",
   "execution_count": 87,
   "metadata": {},
   "outputs": [],
   "source": [
    "# para definir as taxas de base podemos obter os dados do mercado inteiro\n",
    "market = get_whole_market_from_coimetrics()\n",
    "# e unir todos a partir de uma dada data\n",
    "mkt = merge_market_data(market, Timestamp_from_string('01 01 16'))"
   ]
  },
  {
   "cell_type": "code",
   "execution_count": 81,
   "metadata": {},
   "outputs": [],
   "source": [
    "# montamos um portfolio com as seguintes moedas:\n",
    "l = ['btc', 'ltc', 'eth']\n",
    "\n",
    "#todas as opções podem ser obtidas em get_assets_from_coimetrics()\n",
    "\n",
    "portfolio = get_coins_series(l)\n",
    "\n",
    "mu = portfolio.mean()\n",
    "sigma = portfolio.corr()\n"
   ]
  },
  {
   "cell_type": "code",
   "execution_count": 83,
   "metadata": {},
   "outputs": [],
   "source": [
    "# geramos 1000 porfolios de forma aleatória:\n",
    "L = 1000\n",
    "s = np.zeros(L)\n",
    "m = np.zeros(L)\n",
    "\n",
    "for i in range(L):\n",
    "    \n",
    "    w1 = np.random.rand(3)\n",
    "    w2 = np.sum(w1)\n",
    "    w = w1/w2\n",
    "    m[i] = np.matmul(mu, w)\n",
    "    s[i] = np.sqrt( np.matmul(np.matmul(w, sigma), w) )\n",
    "\n"
   ]
  },
  {
   "cell_type": "code",
   "execution_count": 85,
   "metadata": {},
   "outputs": [
    {
     "data": {
      "image/png": "[encoded data removed]",
      "text/plain": [
       "<Figure size 432x288 with 1 Axes>"
      ]
     },
     "metadata": {},
     "output_type": "display_data"
    }
   ],
   "source": [
    "# fazemos um gráfico desses portfolios aleatórios\n",
    "import matplotlib.pyplot as plt\n",
    "plt.scatter(s,m,1,'b')\n",
    "plt.ylabel('returns')\n",
    "plt.xlabel('risk')\n",
    "plt.show()"
   ]
  },
  {
   "cell_type": "code",
   "execution_count": 90,
   "metadata": {},
   "outputs": [
    {
     "data": {
      "text/plain": [
       "array([-0.004,  1.208, -0.204])"
      ]
     },
     "execution_count": 90,
     "metadata": {},
     "output_type": "execute_result"
    }
   ],
   "source": [
    "# para obter o portfolio de menor risco vamos usar a função ggenetic_solvertic_solver()\n",
    "# mas ainda não está correta\n",
    "z = genetic_solver([.4, .4, .2], sigma, mu)\n",
    "z"
   ]
  },
  {
   "cell_type": "code",
   "execution_count": null,
   "metadata": {},
   "outputs": [],
   "source": []
  },
  {
   "cell_type": "code",
   "execution_count": null,
   "metadata": {},
   "outputs": [],
   "source": []
  }
 ],
 "metadata": {
  "kernelspec": {
   "display_name": "Python 2",
   "language": "python",
   "name": "python2"
  },
  "language_info": {
   "codemirror_mode": {
    "name": "ipython",
    "version": 3
   },
   "file_extension": ".py",
   "mimetype": "text/x-python",
   "name": "python",
   "nbconvert_exporter": "python",
   "pygments_lexer": "ipython3",
   "version": "3.6.5"
  }
 },
 "nbformat": 4,
 "nbformat_minor": 2
}
