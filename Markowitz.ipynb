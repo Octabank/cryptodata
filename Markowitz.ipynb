{
 "cells": [
  {
   "cell_type": "code",
   "execution_count": 1,
   "metadata": {},
   "outputs": [],
   "source": [
    "import numpy as np\n",
    "import pandas as pd\n",
    "#import asyncio\n",
    "#import aiohttp\n",
    "import json\n",
    "import csv\n",
    "import requests\n",
    "import time\n",
    "from cryptodata import get_markets, get_pairs, get_ohlc"
   ]
  },
  {
   "cell_type": "code",
   "execution_count": null,
   "metadata": {},
   "outputs": [],
   "source": [
    "def get_daily_price(asset=\"btc\", api=\"coinmetrics\", data_type=\"price(usd)\", start=0, end=time.time()):\n",
    "    if (api == \"coinmetrics\"):\n",
    "        try:\n",
    "            url =  \"https://coinmetrics.io/api/v1/get_asset_data_for_time_range/\"+asset+\"/\"+data_type\n",
    "            url = url + \"/\"+str(int(start)) +\"/\"+str(int(end))\n",
    "            r = requests.get(url).json()['result']\n",
    "            a = pd.DataFrame(r, columns = ['date(utc)',str(asset)+\" \"+str(data_type)])\n",
    "            #print(url)\n",
    "            a[a.columns[0]] = pd.to_datetime(a[a.columns[0]], unit = 's')\n",
    "\n",
    "            return a\n",
    "        except:\n",
    "            print(\"Error: disfunctional API from Coinmetrics\")            \n",
    "            \n",
    "    else:\n",
    "        return 0\n",
    "\n",
    "\n",
    "def get_assets_from_coimetrics():\n",
    "    url = 'https://coinmetrics.io/api/v1/get_supported_assets'\n",
    "    r  = requests.get(url).json()\n",
    "    return r\n",
    "\n",
    "def get_whole_market_from_coimetrics():\n",
    "    assets = get_assets_from_coimetrics()\n",
    "    market = {}\n",
    "    for asset in assets:\n",
    "        market[asset] = get_daily_price(asset)\n",
    "    return market\n",
    "\n",
    "def merge_market_data(market, start=Timestamp_from_string('01 01 17')):\n",
    "    '''merges the market data from the whole market, dumping coins which are too young '''\n",
    "    assets = list(market.keys())\n",
    "    #print(assets)\n",
    "    #print(range(1,len(assets)))\n",
    "    mkt = market[assets[0]]\n",
    "    for i in range(1, len(assets)):\n",
    "        if market[assets[i]]['date(utc)'][0] < start:\n",
    "            mkt = pd.merge(mkt, market[assets[i]])\n",
    "    \n",
    "    return mkt\n",
    "\n",
    "def rate_of_return(df):\n",
    "    cols = df.columns\n",
    "    #print(cols)\n",
    "    if (type(df[cols[0]][0]) == pd.Timestamp):\n",
    "        a = df[cols[1:]].values\n",
    "        b = a/a[0, :]\n",
    "        df2 = df[cols[0]]\n",
    "        #df2 = pd.merge(df2, pd.Dataframe(b, columns = cols[1:]))\n",
    "        #print(b)\n",
    "        \n",
    "        return b[-1]\n",
    "    else:\n",
    "        print('error return_from_values')\n",
    "\n",
    "def get_coins_series(coins,start=Timestamp_from_string('01 01 17').timestamp()):\n",
    "    returns = get_daily_price(coins[0], start=start)\n",
    "    for i in range(1,len(coins)):\n",
    "        returns = pd.merge(returns, get_daily_price(coins[i], start=start))\n",
    "    return returns\n",
    "\n",
    " \n",
    "def genetic_solver(w,cov,mean):\n",
    "    size = len(mean)\n",
    "    lr = .0005\n",
    "    weights = np.reshape(np.tile(w,size),(size,size) )\n",
    "    s = np.ones((size,size))*lr/2\n",
    "    t = np.eye(size)*lr*1.5\n",
    "    q = weights + t - s\n",
    "    #a  = np.matmul(mean, q)\n",
    "    a = np.matmul(q, mean)\n",
    "    old_mean = np.matmul(mean,w)\n",
    "    new_mean = a[np.argmin(a)]\n",
    "    new_weight = q[np.argmin(a)]\n",
    "    dif = (old_mean-new_mean)/old_mean\n",
    "\n",
    "    if dif < 0.5 and np.abs(w) == w:\n",
    "        return genetic_solver(new_weight, cov, mean)\n",
    "    else:\n",
    "        return new_weight\n"
   ]
  },
  {
   "cell_type": "code",
   "execution_count": null,
   "metadata": {},
   "outputs": [],
   "source": [
    "# para definir as taxas de base podemos obter os dados do mercado inteiro\n",
    "market = get_whole_market_from_coimetrics()\n",
    "# e unir todos a partir de uma dada data\n",
    "mkt = merge_market_data(market, Timestamp_from_string('01 01 16'))"
   ]
  },
  {
   "cell_type": "code",
   "execution_count": null,
   "metadata": {},
   "outputs": [],
   "source": [
    "# montamos um portfolio com as seguintes moedas:\n",
    "l = ['btc', 'ltc', 'eth']\n",
    "\n",
    "#todas as opções podem ser obtidas em get_assets_from_coimetrics()\n",
    "\n",
    "portfolio = get_coins_series(l)\n",
    "\n",
    "mu = portfolio.mean()\n",
    "sigma = portfolio.corr()\n"
   ]
  },
  {
   "cell_type": "code",
   "execution_count": null,
   "metadata": {},
   "outputs": [],
   "source": [
    "# geramos 1000 porfolios de forma aleatória:\n",
    "L = 1000\n",
    "s = np.zeros(L)\n",
    "m = np.zeros(L)\n",
    "\n",
    "for i in range(L):\n",
    "    \n",
    "    w1 = np.random.rand(3)\n",
    "    w2 = np.sum(w1)\n",
    "    w = w1/w2\n",
    "    m[i] = np.matmul(mu, w)\n",
    "    s[i] = np.sqrt( np.matmul(np.matmul(w, sigma), w) )\n"
   ]
  },
  {
   "cell_type": "code",
   "execution_count": null,
   "metadata": {},
   "outputs": [],
   "source": [
    "# fazemos um gráfico desses portfolios aleatórios\n",
    "import matplotlib.pyplot as plt\n",
    "plt.scatter(s,m,1,'b')\n",
    "plt.ylabel('returns')\n",
    "plt.xlabel('risk')\n",
    "plt.show()"
   ]
  },
  {
   "cell_type": "code",
   "execution_count": null,
   "metadata": {},
   "outputs": [],
   "source": [
    "# para obter o portfolio de menor risco vamos usar a função ggenetic_solvertic_solver()\n",
    "# mas ainda não está correta\n",
    "z = genetic_solver([.4, .4, .2], sigma, mu)\n",
    "z"
   ]
  },
  {
   "cell_type": "code",
   "execution_count": null,
   "metadata": {},
   "outputs": [],
   "source": []
  }
 ],
 "metadata": {
  "kernelspec": {
   "display_name": "Python 3",
   "language": "python",
   "name": "python3"
  },
  "language_info": {
   "codemirror_mode": {
    "name": "ipython",
    "version": 3
   },
   "file_extension": ".py",
   "mimetype": "text/x-python",
   "name": "python",
   "nbconvert_exporter": "python",
   "pygments_lexer": "ipython3",
   "version": "3.6.5"
  }
 },
 "nbformat": 4,
 "nbformat_minor": 2
}
